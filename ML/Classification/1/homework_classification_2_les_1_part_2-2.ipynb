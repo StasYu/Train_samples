{
  "nbformat": 4,
  "nbformat_minor": 0,
  "metadata": {
    "kernelspec": {
      "display_name": "Python 3",
      "language": "python",
      "name": "python3"
    },
    "language_info": {
      "codemirror_mode": {
        "name": "ipython",
        "version": 3
      },
      "file_extension": ".py",
      "mimetype": "text/x-python",
      "name": "python",
      "nbconvert_exporter": "python",
      "pygments_lexer": "ipython3",
      "version": "3.6.3"
    },
    "colab": {
      "provenance": []
    }
  },
  "cells": [
    {
      "cell_type": "code",
      "metadata": {
        "id": "PV-jZFDRzXtR"
      },
      "source": [
        "import pandas as pd\n",
        "from sklearn.model_selection import train_test_split"
      ],
      "execution_count": 1,
      "outputs": []
    },
    {
      "cell_type": "code",
      "metadata": {
        "id": "1-Zv8POVzXtU",
        "collapsed": true
      },
      "source": [
        "df = pd.read_csv('train.csv')"
      ],
      "execution_count": 2,
      "outputs": []
    },
    {
      "cell_type": "code",
      "metadata": {
        "id": "X99uZ48yzXtb"
      },
      "source": [
        "df = pd.read_csv('train.csv')\n",
        "\n",
        "male, female = df.groupby('Sex')['Age'].mean()\n",
        "\n",
        "# df['Age'] = df.groupby('Sex')['Age'].apply(lambda x: x.fillna(x.mean()))\n",
        "df['Age'] = df.groupby('Sex')['Age'].apply(lambda x: x.fillna(x.mean())).reset_index(drop=True)\n",
        "\n",
        "df['Cabin'].fillna('U', inplace=True)\n",
        "df['Embarked'].fillna('U', inplace=True)\n",
        "\n",
        "# print('male median: %.3f, female median: %.3f' % (male, female))\n",
        "# print('Cabin null values: %.2d'\n",
        "#       '\\nEmbarked null values: %.2d' % (df['Cabin'].isnull().sum(), df['Embarked'].isnull().sum()))"
      ],
      "execution_count": 3,
      "outputs": []
    },
    {
      "cell_type": "code",
      "metadata": {
        "id": "xf7r1L1SzXti"
      },
      "source": [
        "df_mod = df.copy()\n",
        "\n",
        "df_mod['Sex'].replace({'male':0, 'female':1}, inplace=True)\n",
        "df_mod['Embarked'].replace({'U':0, 'S':1, \"C\":2, 'Q':3}, inplace=True)\n",
        "\n",
        "df_mod.drop(['PassengerId', 'Name', 'Ticket', 'Cabin'], axis=1, inplace=True)"
      ],
      "execution_count": 4,
      "outputs": []
    },
    {
      "cell_type": "code",
      "metadata": {
        "id": "jWs-vIXdzXtr"
      },
      "source": [
        "features = df_mod.drop('Survived', axis=1).to_numpy()\n",
        "target = df_mod['Survived']\n",
        "\n",
        "x_train, x_test, y_train, y_test = train_test_split(features, target, test_size=.25, random_state=17)"
      ],
      "execution_count": 5,
      "outputs": []
    },
    {
      "cell_type": "markdown",
      "metadata": {
        "id": "p0RpWMuyhXNc"
      },
      "source": [
        "# Урок 4. Метрики качества классификации ч.2\n",
        "\n",
        "Продолжим работу с метриками классификации. В предыдущем задании мы разобрали матрицу ошибок и две основные метрики, которые используются при бинарной классификации.\n",
        "\n",
        "Сейчас рассмотрим F-меру - совокупную метрику по precision и recall - и более сложную AUC-ROC."
      ]
    },
    {
      "cell_type": "markdown",
      "metadata": {
        "id": "desLnfjBhXNe"
      },
      "source": [
        "### 2.1\n",
        "Из задания к предыдущему уроку выберите классификатор, который давал наименьшее значение recall, вычислите для него precision, применив precision_score, и самостоятельно посчитайте F1-меру (расчеты должны присутствовать). Затем проверьте ответ, используя встроенную функцию.\n",
        "\n",
        "Сравните полученную f1-меру со значением среднего арифметического полноты и точности."
      ]
    },
    {
      "cell_type": "code",
      "source": [],
      "metadata": {
        "id": "yNWrmVFLenUa"
      },
      "execution_count": 5,
      "outputs": []
    },
    {
      "cell_type": "code",
      "metadata": {
        "id": "PqBv_cQmhXNf"
      },
      "source": [
        "from sklearn.metrics import precision_score, f1_score"
      ],
      "execution_count": 6,
      "outputs": []
    },
    {
      "cell_type": "code",
      "metadata": {
        "id": "7inF9IHdhXNl",
        "outputId": "3c5438da-08c7-466e-a9c1-d65bb9654701",
        "colab": {
          "base_uri": "https://localhost:8080/"
        }
      },
      "source": [
        "from sklearn.tree import DecisionTreeClassifier\n",
        "from sklearn.metrics import confusion_matrix\n",
        "\n",
        "dtc = DecisionTreeClassifier(random_state=17)\n",
        "dtc_model = dtc.fit(x_train, y_train)\n",
        "\n",
        "precision = precision_score(y_test, dtc_model.predict(x_test))\n",
        "\n",
        "cm = confusion_matrix(y_test, dtc_model.predict(x_test))\n",
        "recall = cm[1,1] / (cm[1,1] + cm[1,0])\n",
        "\n",
        "f1_calculated = 2 * precision * recall / (precision + recall)\n",
        "f1_true = f1_score(y_test, dtc_model.predict(x_test))\n",
        "\n",
        "print(f'f1 calculated: {f1_calculated}\\nf1 true:       {f1_true}')"
      ],
      "execution_count": 7,
      "outputs": [
        {
          "output_type": "stream",
          "name": "stdout",
          "text": [
            "f1 calculated: 0.6808510638297872\n",
            "f1 true:       0.6808510638297872\n"
          ]
        }
      ]
    },
    {
      "cell_type": "markdown",
      "metadata": {
        "id": "zx1hiPXxhXNp"
      },
      "source": [
        "В библиотеке sklearn есть удобная функция classification_report, возвращающая precision, recall, F-меру и количество экземпляров каждого класса в удобном для чтения формате. Также существует функция precision_recall_fscore_support, возвращающая те же самые метрики, но в форме массива.\n",
        "\n",
        "### 2.2\n",
        "Для каждого классификатора из предыдущего урока рассчитайте и выведите следующие импортированные метрики."
      ]
    },
    {
      "cell_type": "code",
      "source": [
        "df_mod.head()"
      ],
      "metadata": {
        "id": "2MhdRIZ2kPG-",
        "outputId": "0a3401b4-7772-4fb0-97bd-a2b82412a300",
        "colab": {
          "base_uri": "https://localhost:8080/",
          "height": 204
        }
      },
      "execution_count": 8,
      "outputs": [
        {
          "output_type": "execute_result",
          "data": {
            "text/plain": [
              "   Survived  Pclass  Sex   Age  SibSp  Parch     Fare  Embarked\n",
              "0         0       3    0  38.0      1      0   7.2500         1\n",
              "1         1       1    1  26.0      1      0  71.2833         2\n",
              "2         1       3    1  35.0      0      0   7.9250         1\n",
              "3         1       1    1  27.0      1      0  53.1000         1\n",
              "4         0       3    0  14.0      0      0   8.0500         1"
            ],
            "text/html": [
              "\n",
              "  <div id=\"df-3e3a1c14-f700-4709-aa60-8a263f436005\" class=\"colab-df-container\">\n",
              "    <div>\n",
              "<style scoped>\n",
              "    .dataframe tbody tr th:only-of-type {\n",
              "        vertical-align: middle;\n",
              "    }\n",
              "\n",
              "    .dataframe tbody tr th {\n",
              "        vertical-align: top;\n",
              "    }\n",
              "\n",
              "    .dataframe thead th {\n",
              "        text-align: right;\n",
              "    }\n",
              "</style>\n",
              "<table border=\"1\" class=\"dataframe\">\n",
              "  <thead>\n",
              "    <tr style=\"text-align: right;\">\n",
              "      <th></th>\n",
              "      <th>Survived</th>\n",
              "      <th>Pclass</th>\n",
              "      <th>Sex</th>\n",
              "      <th>Age</th>\n",
              "      <th>SibSp</th>\n",
              "      <th>Parch</th>\n",
              "      <th>Fare</th>\n",
              "      <th>Embarked</th>\n",
              "    </tr>\n",
              "  </thead>\n",
              "  <tbody>\n",
              "    <tr>\n",
              "      <th>0</th>\n",
              "      <td>0</td>\n",
              "      <td>3</td>\n",
              "      <td>0</td>\n",
              "      <td>38.0</td>\n",
              "      <td>1</td>\n",
              "      <td>0</td>\n",
              "      <td>7.2500</td>\n",
              "      <td>1</td>\n",
              "    </tr>\n",
              "    <tr>\n",
              "      <th>1</th>\n",
              "      <td>1</td>\n",
              "      <td>1</td>\n",
              "      <td>1</td>\n",
              "      <td>26.0</td>\n",
              "      <td>1</td>\n",
              "      <td>0</td>\n",
              "      <td>71.2833</td>\n",
              "      <td>2</td>\n",
              "    </tr>\n",
              "    <tr>\n",
              "      <th>2</th>\n",
              "      <td>1</td>\n",
              "      <td>3</td>\n",
              "      <td>1</td>\n",
              "      <td>35.0</td>\n",
              "      <td>0</td>\n",
              "      <td>0</td>\n",
              "      <td>7.9250</td>\n",
              "      <td>1</td>\n",
              "    </tr>\n",
              "    <tr>\n",
              "      <th>3</th>\n",
              "      <td>1</td>\n",
              "      <td>1</td>\n",
              "      <td>1</td>\n",
              "      <td>27.0</td>\n",
              "      <td>1</td>\n",
              "      <td>0</td>\n",
              "      <td>53.1000</td>\n",
              "      <td>1</td>\n",
              "    </tr>\n",
              "    <tr>\n",
              "      <th>4</th>\n",
              "      <td>0</td>\n",
              "      <td>3</td>\n",
              "      <td>0</td>\n",
              "      <td>14.0</td>\n",
              "      <td>0</td>\n",
              "      <td>0</td>\n",
              "      <td>8.0500</td>\n",
              "      <td>1</td>\n",
              "    </tr>\n",
              "  </tbody>\n",
              "</table>\n",
              "</div>\n",
              "    <div class=\"colab-df-buttons\">\n",
              "\n",
              "  <div class=\"colab-df-container\">\n",
              "    <button class=\"colab-df-convert\" onclick=\"convertToInteractive('df-3e3a1c14-f700-4709-aa60-8a263f436005')\"\n",
              "            title=\"Convert this dataframe to an interactive table.\"\n",
              "            style=\"display:none;\">\n",
              "\n",
              "  <svg xmlns=\"http://www.w3.org/2000/svg\" height=\"24px\" viewBox=\"0 -960 960 960\">\n",
              "    <path d=\"M120-120v-720h720v720H120Zm60-500h600v-160H180v160Zm220 220h160v-160H400v160Zm0 220h160v-160H400v160ZM180-400h160v-160H180v160Zm440 0h160v-160H620v160ZM180-180h160v-160H180v160Zm440 0h160v-160H620v160Z\"/>\n",
              "  </svg>\n",
              "    </button>\n",
              "\n",
              "  <style>\n",
              "    .colab-df-container {\n",
              "      display:flex;\n",
              "      gap: 12px;\n",
              "    }\n",
              "\n",
              "    .colab-df-convert {\n",
              "      background-color: #E8F0FE;\n",
              "      border: none;\n",
              "      border-radius: 50%;\n",
              "      cursor: pointer;\n",
              "      display: none;\n",
              "      fill: #1967D2;\n",
              "      height: 32px;\n",
              "      padding: 0 0 0 0;\n",
              "      width: 32px;\n",
              "    }\n",
              "\n",
              "    .colab-df-convert:hover {\n",
              "      background-color: #E2EBFA;\n",
              "      box-shadow: 0px 1px 2px rgba(60, 64, 67, 0.3), 0px 1px 3px 1px rgba(60, 64, 67, 0.15);\n",
              "      fill: #174EA6;\n",
              "    }\n",
              "\n",
              "    .colab-df-buttons div {\n",
              "      margin-bottom: 4px;\n",
              "    }\n",
              "\n",
              "    [theme=dark] .colab-df-convert {\n",
              "      background-color: #3B4455;\n",
              "      fill: #D2E3FC;\n",
              "    }\n",
              "\n",
              "    [theme=dark] .colab-df-convert:hover {\n",
              "      background-color: #434B5C;\n",
              "      box-shadow: 0px 1px 3px 1px rgba(0, 0, 0, 0.15);\n",
              "      filter: drop-shadow(0px 1px 2px rgba(0, 0, 0, 0.3));\n",
              "      fill: #FFFFFF;\n",
              "    }\n",
              "  </style>\n",
              "\n",
              "    <script>\n",
              "      const buttonEl =\n",
              "        document.querySelector('#df-3e3a1c14-f700-4709-aa60-8a263f436005 button.colab-df-convert');\n",
              "      buttonEl.style.display =\n",
              "        google.colab.kernel.accessAllowed ? 'block' : 'none';\n",
              "\n",
              "      async function convertToInteractive(key) {\n",
              "        const element = document.querySelector('#df-3e3a1c14-f700-4709-aa60-8a263f436005');\n",
              "        const dataTable =\n",
              "          await google.colab.kernel.invokeFunction('convertToInteractive',\n",
              "                                                    [key], {});\n",
              "        if (!dataTable) return;\n",
              "\n",
              "        const docLinkHtml = 'Like what you see? Visit the ' +\n",
              "          '<a target=\"_blank\" href=https://colab.research.google.com/notebooks/data_table.ipynb>data table notebook</a>'\n",
              "          + ' to learn more about interactive tables.';\n",
              "        element.innerHTML = '';\n",
              "        dataTable['output_type'] = 'display_data';\n",
              "        await google.colab.output.renderOutput(dataTable, element);\n",
              "        const docLink = document.createElement('div');\n",
              "        docLink.innerHTML = docLinkHtml;\n",
              "        element.appendChild(docLink);\n",
              "      }\n",
              "    </script>\n",
              "  </div>\n",
              "\n",
              "\n",
              "<div id=\"df-b8033dff-b216-4dda-960a-92dc2a2a9b37\">\n",
              "  <button class=\"colab-df-quickchart\" onclick=\"quickchart('df-b8033dff-b216-4dda-960a-92dc2a2a9b37')\"\n",
              "            title=\"Suggest charts\"\n",
              "            style=\"display:none;\">\n",
              "\n",
              "<svg xmlns=\"http://www.w3.org/2000/svg\" height=\"24px\"viewBox=\"0 0 24 24\"\n",
              "     width=\"24px\">\n",
              "    <g>\n",
              "        <path d=\"M19 3H5c-1.1 0-2 .9-2 2v14c0 1.1.9 2 2 2h14c1.1 0 2-.9 2-2V5c0-1.1-.9-2-2-2zM9 17H7v-7h2v7zm4 0h-2V7h2v10zm4 0h-2v-4h2v4z\"/>\n",
              "    </g>\n",
              "</svg>\n",
              "  </button>\n",
              "\n",
              "<style>\n",
              "  .colab-df-quickchart {\n",
              "      --bg-color: #E8F0FE;\n",
              "      --fill-color: #1967D2;\n",
              "      --hover-bg-color: #E2EBFA;\n",
              "      --hover-fill-color: #174EA6;\n",
              "      --disabled-fill-color: #AAA;\n",
              "      --disabled-bg-color: #DDD;\n",
              "  }\n",
              "\n",
              "  [theme=dark] .colab-df-quickchart {\n",
              "      --bg-color: #3B4455;\n",
              "      --fill-color: #D2E3FC;\n",
              "      --hover-bg-color: #434B5C;\n",
              "      --hover-fill-color: #FFFFFF;\n",
              "      --disabled-bg-color: #3B4455;\n",
              "      --disabled-fill-color: #666;\n",
              "  }\n",
              "\n",
              "  .colab-df-quickchart {\n",
              "    background-color: var(--bg-color);\n",
              "    border: none;\n",
              "    border-radius: 50%;\n",
              "    cursor: pointer;\n",
              "    display: none;\n",
              "    fill: var(--fill-color);\n",
              "    height: 32px;\n",
              "    padding: 0;\n",
              "    width: 32px;\n",
              "  }\n",
              "\n",
              "  .colab-df-quickchart:hover {\n",
              "    background-color: var(--hover-bg-color);\n",
              "    box-shadow: 0 1px 2px rgba(60, 64, 67, 0.3), 0 1px 3px 1px rgba(60, 64, 67, 0.15);\n",
              "    fill: var(--button-hover-fill-color);\n",
              "  }\n",
              "\n",
              "  .colab-df-quickchart-complete:disabled,\n",
              "  .colab-df-quickchart-complete:disabled:hover {\n",
              "    background-color: var(--disabled-bg-color);\n",
              "    fill: var(--disabled-fill-color);\n",
              "    box-shadow: none;\n",
              "  }\n",
              "\n",
              "  .colab-df-spinner {\n",
              "    border: 2px solid var(--fill-color);\n",
              "    border-color: transparent;\n",
              "    border-bottom-color: var(--fill-color);\n",
              "    animation:\n",
              "      spin 1s steps(1) infinite;\n",
              "  }\n",
              "\n",
              "  @keyframes spin {\n",
              "    0% {\n",
              "      border-color: transparent;\n",
              "      border-bottom-color: var(--fill-color);\n",
              "      border-left-color: var(--fill-color);\n",
              "    }\n",
              "    20% {\n",
              "      border-color: transparent;\n",
              "      border-left-color: var(--fill-color);\n",
              "      border-top-color: var(--fill-color);\n",
              "    }\n",
              "    30% {\n",
              "      border-color: transparent;\n",
              "      border-left-color: var(--fill-color);\n",
              "      border-top-color: var(--fill-color);\n",
              "      border-right-color: var(--fill-color);\n",
              "    }\n",
              "    40% {\n",
              "      border-color: transparent;\n",
              "      border-right-color: var(--fill-color);\n",
              "      border-top-color: var(--fill-color);\n",
              "    }\n",
              "    60% {\n",
              "      border-color: transparent;\n",
              "      border-right-color: var(--fill-color);\n",
              "    }\n",
              "    80% {\n",
              "      border-color: transparent;\n",
              "      border-right-color: var(--fill-color);\n",
              "      border-bottom-color: var(--fill-color);\n",
              "    }\n",
              "    90% {\n",
              "      border-color: transparent;\n",
              "      border-bottom-color: var(--fill-color);\n",
              "    }\n",
              "  }\n",
              "</style>\n",
              "\n",
              "  <script>\n",
              "    async function quickchart(key) {\n",
              "      const quickchartButtonEl =\n",
              "        document.querySelector('#' + key + ' button');\n",
              "      quickchartButtonEl.disabled = true;  // To prevent multiple clicks.\n",
              "      quickchartButtonEl.classList.add('colab-df-spinner');\n",
              "      try {\n",
              "        const charts = await google.colab.kernel.invokeFunction(\n",
              "            'suggestCharts', [key], {});\n",
              "      } catch (error) {\n",
              "        console.error('Error during call to suggestCharts:', error);\n",
              "      }\n",
              "      quickchartButtonEl.classList.remove('colab-df-spinner');\n",
              "      quickchartButtonEl.classList.add('colab-df-quickchart-complete');\n",
              "    }\n",
              "    (() => {\n",
              "      let quickchartButtonEl =\n",
              "        document.querySelector('#df-b8033dff-b216-4dda-960a-92dc2a2a9b37 button');\n",
              "      quickchartButtonEl.style.display =\n",
              "        google.colab.kernel.accessAllowed ? 'block' : 'none';\n",
              "    })();\n",
              "  </script>\n",
              "</div>\n",
              "\n",
              "    </div>\n",
              "  </div>\n"
            ],
            "application/vnd.google.colaboratory.intrinsic+json": {
              "type": "dataframe",
              "variable_name": "df_mod",
              "summary": "{\n  \"name\": \"df_mod\",\n  \"rows\": 891,\n  \"fields\": [\n    {\n      \"column\": \"Survived\",\n      \"properties\": {\n        \"dtype\": \"number\",\n        \"std\": 0,\n        \"min\": 0,\n        \"max\": 1,\n        \"num_unique_values\": 2,\n        \"samples\": [\n          1,\n          0\n        ],\n        \"semantic_type\": \"\",\n        \"description\": \"\"\n      }\n    },\n    {\n      \"column\": \"Pclass\",\n      \"properties\": {\n        \"dtype\": \"number\",\n        \"std\": 0,\n        \"min\": 1,\n        \"max\": 3,\n        \"num_unique_values\": 3,\n        \"samples\": [\n          3,\n          1\n        ],\n        \"semantic_type\": \"\",\n        \"description\": \"\"\n      }\n    },\n    {\n      \"column\": \"Sex\",\n      \"properties\": {\n        \"dtype\": \"number\",\n        \"std\": 0,\n        \"min\": 0,\n        \"max\": 1,\n        \"num_unique_values\": 2,\n        \"samples\": [\n          1,\n          0\n        ],\n        \"semantic_type\": \"\",\n        \"description\": \"\"\n      }\n    },\n    {\n      \"column\": \"Age\",\n      \"properties\": {\n        \"dtype\": \"number\",\n        \"std\": 13.014896879381995,\n        \"min\": 0.42,\n        \"max\": 80.0,\n        \"num_unique_values\": 90,\n        \"samples\": [\n          25.0,\n          30.0\n        ],\n        \"semantic_type\": \"\",\n        \"description\": \"\"\n      }\n    },\n    {\n      \"column\": \"SibSp\",\n      \"properties\": {\n        \"dtype\": \"number\",\n        \"std\": 1,\n        \"min\": 0,\n        \"max\": 8,\n        \"num_unique_values\": 7,\n        \"samples\": [\n          1,\n          0\n        ],\n        \"semantic_type\": \"\",\n        \"description\": \"\"\n      }\n    },\n    {\n      \"column\": \"Parch\",\n      \"properties\": {\n        \"dtype\": \"number\",\n        \"std\": 0,\n        \"min\": 0,\n        \"max\": 6,\n        \"num_unique_values\": 7,\n        \"samples\": [\n          0,\n          1\n        ],\n        \"semantic_type\": \"\",\n        \"description\": \"\"\n      }\n    },\n    {\n      \"column\": \"Fare\",\n      \"properties\": {\n        \"dtype\": \"number\",\n        \"std\": 49.6934285971809,\n        \"min\": 0.0,\n        \"max\": 512.3292,\n        \"num_unique_values\": 248,\n        \"samples\": [\n          11.2417,\n          51.8625\n        ],\n        \"semantic_type\": \"\",\n        \"description\": \"\"\n      }\n    },\n    {\n      \"column\": \"Embarked\",\n      \"properties\": {\n        \"dtype\": \"number\",\n        \"std\": 0,\n        \"min\": 0,\n        \"max\": 3,\n        \"num_unique_values\": 4,\n        \"samples\": [\n          2,\n          0\n        ],\n        \"semantic_type\": \"\",\n        \"description\": \"\"\n      }\n    }\n  ]\n}"
            }
          },
          "metadata": {},
          "execution_count": 8
        }
      ]
    },
    {
      "cell_type": "code",
      "metadata": {
        "id": "vhcIcGX5hXNq"
      },
      "source": [
        "from sklearn.metrics import precision_recall_fscore_support, classification_report"
      ],
      "execution_count": 9,
      "outputs": []
    },
    {
      "cell_type": "code",
      "metadata": {
        "id": "zUPZhuTGhXNt",
        "outputId": "2d52b657-38e8-4106-f050-162aad78d2f1",
        "colab": {
          "base_uri": "https://localhost:8080/"
        }
      },
      "source": [
        "prfs = precision_recall_fscore_support(y_test, dtc_model.predict(x_test))\n",
        "prfs_array = classification_report(y_test, dtc_model.predict(x_test))\n",
        "\n",
        "print(prfs_array)\n"
      ],
      "execution_count": 10,
      "outputs": [
        {
          "output_type": "stream",
          "name": "stdout",
          "text": [
            "              precision    recall  f1-score   support\n",
            "\n",
            "           0       0.78      0.76      0.77       131\n",
            "           1       0.67      0.70      0.68        92\n",
            "\n",
            "    accuracy                           0.73       223\n",
            "   macro avg       0.72      0.73      0.72       223\n",
            "weighted avg       0.73      0.73      0.73       223\n",
            "\n"
          ]
        }
      ]
    },
    {
      "cell_type": "markdown",
      "metadata": {
        "id": "sAisAae0hXNx"
      },
      "source": [
        "Вернемся к классификатору LogisticRegression, который мы обучали в предыдущем задании. Там мы не затрагивали настройку гиперпараметров: сделать это можно с помощью LogisticRegressionCV - перебора параметров по сетке с последующей кросс-валидацией (по сути это аналог GridSearchCV, но со своими параметрами внутри, применимыми только к логистической регрессии). Этот класс создан специально для логистической регрессии, т.к. для нее известны эффективные алгоритмы перебора параметров.\n",
        "\n",
        "У LogisticRegression есть гиперпараметр C - обратный коэффициент регуляризации. Не вдаваясь в подробное описание по формуле, можно сказать, что C соответствует \"сложности\" модели: чем больше C, тем более сложные зависимости может восстанавливать модель; если параметр C слишком мал (слишком сильная регуляризация), то модель окажется недообученной, а если наоборот регуляризация слишком слабая (т.е. C принимает большие значения), то скорее всего модель окажется переобученной, потому как модель будет слишком \"бояться\" ошибиться на обучающей выборке."
      ]
    },
    {
      "cell_type": "markdown",
      "metadata": {
        "id": "L-j5LLf3hXNx"
      },
      "source": [
        "### 2.3\n",
        "\n",
        "1. Используя StratifiedKFold, разбейте данные для кросс-валидации по 5-ти блокам (не забывайте во всех методах использовать random_state=17).\n",
        "2. С помощью numpy.logspace разбейте интервал (-1, 2) на 500 значений.\n",
        "3. С помощью LogisticRegressionCV подберите оптимальный параметр C: установите гиперпараметр Cs равным объекту из п.2 (разбиение интервала (-1, 2) отвечает за подбор обратного коэффициента регуляризации C); cv равным объекту из п.1 (разбиение для кросс-валидации); scoring равным \"roc_auc\" (отвечает за оптимизацию гиперпараметров на кросс-валидации: метрика, установленная в scoring, контролирует, как оценивать модель при каждом из наборе параметров, т.е. показывает, какая метрика должна быть наилучшей).\n",
        "4. Обучите полученную модель на тренировочных данных."
      ]
    },
    {
      "cell_type": "code",
      "metadata": {
        "id": "H-0WuZbphXNy"
      },
      "source": [
        "from sklearn.model_selection import StratifiedKFold\n",
        "from sklearn.linear_model import LogisticRegressionCV\n",
        "import numpy as np"
      ],
      "execution_count": 11,
      "outputs": []
    },
    {
      "cell_type": "code",
      "source": [],
      "metadata": {
        "id": "oYPSM3mCqFdb"
      },
      "execution_count": null,
      "outputs": []
    },
    {
      "cell_type": "code",
      "metadata": {
        "id": "0ezY2p2RhXN4"
      },
      "source": [
        "skf = StratifiedKFold(n_splits=5, shuffle=True, random_state=17)\n",
        "skf_split = skf.split(features, target)\n",
        "log_line = np.logspace(-1, 2, num=500)\n",
        "\n",
        "lrcv = LogisticRegressionCV(Cs=log_line, cv=skf, scoring='roc_auc', max_iter=150)\n",
        "lrcv_model = lrcv.fit(x_train, y_train)"
      ],
      "execution_count": 25,
      "outputs": []
    },
    {
      "cell_type": "code",
      "source": [
        "np.mean(lrcv_model.scores_[1].T, axis=1)"
      ],
      "metadata": {
        "colab": {
          "base_uri": "https://localhost:8080/"
        },
        "id": "AtMGD0G2wCw8",
        "outputId": "4562af1b-b0b9-4f9b-eed5-ce1ca8d6d9fb"
      },
      "execution_count": 48,
      "outputs": [
        {
          "output_type": "execute_result",
          "data": {
            "text/plain": [
              "array([0.83573351, 0.83606569, 0.83606569, 0.83630436, 0.83625731,\n",
              "       0.83611446, 0.83640017, 0.83640132, 0.83620797, 0.83625617,\n",
              "       0.83625617, 0.83692283, 0.83654303, 0.8362074 , 0.83687636,\n",
              "       0.83754246, 0.83749656, 0.83768646, 0.83801979, 0.83768531,\n",
              "       0.83811274, 0.83801692, 0.83758778, 0.83777998, 0.83730149,\n",
              "       0.83754246, 0.8377794 , 0.8377794 , 0.83796931, 0.83792111,\n",
              "       0.83811159, 0.83787349, 0.83777596, 0.83763196, 0.83758434,\n",
              "       0.83767958, 0.83767958, 0.83772777, 0.83748795, 0.83763024,\n",
              "       0.83772605, 0.837679  , 0.83763138, 0.83758491, 0.8374891 ,\n",
              "       0.83753729, 0.83753729, 0.83753672, 0.83734624, 0.83734624,\n",
              "       0.83729862, 0.83734624, 0.83729748, 0.83734509, 0.83720224,\n",
              "       0.83729862, 0.8374891 , 0.83768072, 0.83758548, 0.83768015,\n",
              "       0.83768015, 0.83768015, 0.83782301, 0.83777481, 0.83777481,\n",
              "       0.83787005, 0.83782243, 0.83777424, 0.83767785, 0.83777367,\n",
              "       0.83786948, 0.83786948, 0.8378689 , 0.83777367, 0.83782186,\n",
              "       0.83796472, 0.83810929, 0.83806168, 0.83791882, 0.83796529,\n",
              "       0.83796529, 0.83796529, 0.83796529, 0.83801348, 0.83801348,\n",
              "       0.83791767, 0.83796529, 0.83791767, 0.83796586, 0.83796586,\n",
              "       0.83796529, 0.83787005, 0.83791882, 0.8380611 , 0.83801291,\n",
              "       0.83810815, 0.83806053, 0.83810815, 0.83777481, 0.83782301,\n",
              "       0.83777539, 0.83782358, 0.83782358, 0.83782358, 0.83782358,\n",
              "       0.83791824, 0.83791824, 0.83791824, 0.83791767, 0.83796586,\n",
              "       0.83786948, 0.83796586, 0.83796586, 0.83796586, 0.83801348,\n",
              "       0.83801348, 0.83801348, 0.83801348, 0.83796472, 0.83796472,\n",
              "       0.83801291, 0.83787005, 0.83796414, 0.83791652, 0.83791652,\n",
              "       0.83801176, 0.83801176, 0.83782071, 0.83791652, 0.83791652,\n",
              "       0.83791652, 0.83782129, 0.83777367, 0.83782186, 0.83782186,\n",
              "       0.83772547, 0.83758204, 0.83753442, 0.83758204, 0.83753442,\n",
              "       0.83758204, 0.83724871, 0.83734509, 0.83734509, 0.83724871,\n",
              "       0.83724871, 0.83710585, 0.83700947, 0.83710585, 0.83700947,\n",
              "       0.83700947, 0.83700947, 0.83705709, 0.83705709, 0.83705709,\n",
              "       0.83696185, 0.83691365, 0.83691365, 0.83681727, 0.83681727,\n",
              "       0.83681727, 0.83681727, 0.83681727, 0.83681727, 0.83681727,\n",
              "       0.83676965, 0.83672203, 0.83672203, 0.83667441, 0.83667441,\n",
              "       0.83667441, 0.83676965, 0.83672203, 0.83672203, 0.83672203,\n",
              "       0.83667441, 0.83662679, 0.83672318, 0.83672318, 0.83677137,\n",
              "       0.83677137, 0.83677137, 0.83677137, 0.83700947, 0.83696185,\n",
              "       0.83691365, 0.83691365, 0.83691365, 0.83691365, 0.83691365,\n",
              "       0.83681842, 0.83686661, 0.83686661, 0.83686661, 0.83686661,\n",
              "       0.83686661, 0.83686661, 0.83686661, 0.83681842, 0.83681842,\n",
              "       0.83681842, 0.83681842, 0.83681842, 0.83681842, 0.83681842,\n",
              "       0.83681842, 0.83681842, 0.83681842, 0.83681842, 0.83681842,\n",
              "       0.83681842, 0.83681842, 0.83681842, 0.83681842, 0.83681842,\n",
              "       0.83681842, 0.83681842, 0.83686604, 0.83667326, 0.8367685 ,\n",
              "       0.83667326, 0.83667326, 0.83667326, 0.83667326, 0.83667326,\n",
              "       0.83681784, 0.83681784, 0.83681784, 0.83672146, 0.83676908,\n",
              "       0.83676908, 0.83676908, 0.83676908, 0.83676908, 0.83676908,\n",
              "       0.83676908, 0.83676908, 0.83676908, 0.83676908, 0.8368167 ,\n",
              "       0.8367685 , 0.8367685 , 0.8368167 , 0.83672146, 0.83672146,\n",
              "       0.83672146, 0.83672146, 0.83672146, 0.83672146, 0.83672146,\n",
              "       0.83672146, 0.83672146, 0.83672146, 0.83672146, 0.83672146,\n",
              "       0.83672146, 0.83652869, 0.83652869, 0.83652869, 0.83652869,\n",
              "       0.83652869, 0.83652869, 0.83652869, 0.83652869, 0.83652869,\n",
              "       0.83652869, 0.83652869, 0.83657631, 0.83657631, 0.83657631,\n",
              "       0.83657631, 0.83657631, 0.83643173, 0.83643173, 0.83643173,\n",
              "       0.83643173, 0.83643173, 0.83643173, 0.83643173, 0.83643173,\n",
              "       0.83643173, 0.83643173, 0.83643173, 0.83643173, 0.83643173,\n",
              "       0.83643173, 0.83643173, 0.83643173, 0.83643173, 0.83643173,\n",
              "       0.83643173, 0.83643173, 0.83647992, 0.83647992, 0.83647992,\n",
              "       0.83647992, 0.83647992, 0.83647992, 0.83647992, 0.83647992,\n",
              "       0.83647992, 0.83647992, 0.83647992, 0.8364323 , 0.8364323 ,\n",
              "       0.8364323 , 0.8364323 , 0.8364323 , 0.8364323 , 0.8364323 ,\n",
              "       0.8364323 , 0.8364323 , 0.8364323 , 0.8364323 , 0.8364323 ,\n",
              "       0.8364323 , 0.8364323 , 0.8364323 , 0.8364323 , 0.8364323 ,\n",
              "       0.8364323 , 0.83648049, 0.83648049, 0.83648049, 0.83648049,\n",
              "       0.83648049, 0.83648049, 0.83648049, 0.83648049, 0.83648049,\n",
              "       0.83648049, 0.83648049, 0.83648049, 0.83648049, 0.83648049,\n",
              "       0.83648049, 0.83648049, 0.83648049, 0.83648049, 0.83648049,\n",
              "       0.83652869, 0.83652869, 0.83652869, 0.83652869, 0.83652869,\n",
              "       0.83652869, 0.83652869, 0.83652869, 0.83652869, 0.83652869,\n",
              "       0.83652869, 0.83652869, 0.83652869, 0.83652869, 0.83652869,\n",
              "       0.83652869, 0.83652869, 0.83652869, 0.83652869, 0.83652869,\n",
              "       0.83652869, 0.83652869, 0.83652869, 0.83652869, 0.83652869,\n",
              "       0.83657688, 0.83657688, 0.83657688, 0.83657688, 0.83657688,\n",
              "       0.83657688, 0.83657688, 0.83657688, 0.83657688, 0.83657688,\n",
              "       0.83657688, 0.83657688, 0.83657688, 0.83657688, 0.83657688,\n",
              "       0.83657688, 0.83657688, 0.83657688, 0.83657688, 0.83657688,\n",
              "       0.83657688, 0.83657688, 0.83657688, 0.83657688, 0.83657688,\n",
              "       0.83657688, 0.83657688, 0.83657688, 0.83657688, 0.83657688,\n",
              "       0.83657688, 0.83657688, 0.83657688, 0.83657688, 0.83657688,\n",
              "       0.83657688, 0.83657688, 0.83657688, 0.83657688, 0.83657688,\n",
              "       0.83657688, 0.83657688, 0.83657688, 0.83657688, 0.83657688,\n",
              "       0.83657688, 0.83657688, 0.83657688, 0.83657688, 0.83657688,\n",
              "       0.83657688, 0.83657688, 0.83657688, 0.83657688, 0.83657688,\n",
              "       0.83657688, 0.83657688, 0.83657688, 0.83657688, 0.83657688,\n",
              "       0.83657688, 0.83657688, 0.83657688, 0.83657688, 0.83657688,\n",
              "       0.83657688, 0.83657688, 0.83657688, 0.83657688, 0.83657688,\n",
              "       0.83657688, 0.83657688, 0.83657688, 0.83648049, 0.83648049,\n",
              "       0.83648049, 0.83648049, 0.83648049, 0.83648049, 0.83648049,\n",
              "       0.83648049, 0.83648049, 0.83648049, 0.83648049, 0.83648049,\n",
              "       0.83648049, 0.83648049, 0.83648049, 0.83648049, 0.83648049,\n",
              "       0.83648049, 0.83648049, 0.83648049, 0.83648049, 0.83648049,\n",
              "       0.83648049, 0.83648049, 0.83648049, 0.83648049, 0.83648049,\n",
              "       0.83648049, 0.83648049, 0.83648049, 0.83648049, 0.83648049,\n",
              "       0.83648049, 0.83648049, 0.83648049, 0.83648049, 0.83648049,\n",
              "       0.83648049, 0.83648049, 0.83648049, 0.83648049, 0.83648049,\n",
              "       0.83648049, 0.83648049, 0.83648049, 0.83648049, 0.83648049,\n",
              "       0.83648049, 0.83648049, 0.83648049, 0.83648049, 0.83648049,\n",
              "       0.83648049, 0.83648049, 0.83648049, 0.83648049, 0.83648049,\n",
              "       0.83648049, 0.83648049, 0.83648049, 0.83648049, 0.83648049])"
            ]
          },
          "metadata": {},
          "execution_count": 48
        }
      ]
    },
    {
      "cell_type": "markdown",
      "metadata": {
        "id": "kaE1oixihXN8"
      },
      "source": [
        "### 2.4\n",
        "Используя метод plot из matplotlib.pyplot, выведите график зависимости auc_roc от значения C."
      ]
    },
    {
      "cell_type": "markdown",
      "metadata": {
        "id": "yRsW0oWQhXN9"
      },
      "source": [
        "*Примечание: значения по оси x - разбиение с помощью np.logspace из п.2 предыдущего задания, а значения по оси y - среднее значение roc_auc по каждой валидации, т.е. среднее значение из полученных на каждом из 5-ти разбиений при данном параметре C (используйте метод scores_ объекта, который инкапсулирует LogisticRegressionCV).*"
      ]
    },
    {
      "cell_type": "code",
      "metadata": {
        "id": "5H0CAgq9hXN-"
      },
      "source": [
        "import matplotlib.pyplot as plt"
      ],
      "execution_count": 26,
      "outputs": []
    },
    {
      "cell_type": "code",
      "metadata": {
        "id": "KTZtXirYhXOC",
        "colab": {
          "base_uri": "https://localhost:8080/",
          "height": 447
        },
        "outputId": "0deb96e1-11e0-43a8-b0af-ef2873ebfac8"
      },
      "source": [
        "plt.plot(log_line, np.mean(lrcv_model.scores_[1].T, axis=1))\n",
        "\n",
        "\n"
      ],
      "execution_count": 47,
      "outputs": [
        {
          "output_type": "execute_result",
          "data": {
            "text/plain": [
              "[<matplotlib.lines.Line2D at 0x7fcde55cb880>]"
            ]
          },
          "metadata": {},
          "execution_count": 47
        },
        {
          "output_type": "display_data",
          "data": {
            "text/plain": [
              "<Figure size 640x480 with 1 Axes>"
            ],
            "image/png": "[encoded data removed]"
          },
          "metadata": {}
        }
      ]
    },
    {
      "cell_type": "markdown",
      "metadata": {
        "id": "lv9qcBE4hXOH"
      },
      "source": [
        "### 2.5\n",
        "С помощью метода C_ того же объекта выведите лучшее значение C. Выведите более конкретную область графика (область ~15 точкам по x), включающую лучшее значение C.\n",
        "\n",
        "*Примечание: используйте plt.xlim.*"
      ]
    },
    {
      "cell_type": "code",
      "source": [
        "lrcv_model.C_"
      ],
      "metadata": {
        "colab": {
          "base_uri": "https://localhost:8080/"
        },
        "id": "_ViMOcfm03Xo",
        "outputId": "ee3105cd-e4f9-4c94-e393-7863f9a8df23"
      },
      "execution_count": 50,
      "outputs": [
        {
          "output_type": "execute_result",
          "data": {
            "text/plain": [
              "array([0.13189869])"
            ]
          },
          "metadata": {},
          "execution_count": 50
        }
      ]
    },
    {
      "cell_type": "code",
      "metadata": {
        "id": "BUoS6KvRhXOI",
        "colab": {
          "base_uri": "https://localhost:8080/",
          "height": 447
        },
        "outputId": "f9676d5e-2bf9-4885-fd9c-f057d24e1ab6"
      },
      "source": [
        "plt.plot(log_line, np.mean(lrcv_model.scores_[1].T, axis=1))\n",
        "plt.xlim(left=(lrcv_model.C_-0.5), right=15)\n"
      ],
      "execution_count": 56,
      "outputs": [
        {
          "output_type": "execute_result",
          "data": {
            "text/plain": [
              "(-0.36810131038013294, 15.0)"
            ]
          },
          "metadata": {},
          "execution_count": 56
        },
        {
          "output_type": "display_data",
          "data": {
            "text/plain": [
              "<Figure size 640x480 with 1 Axes>"
            ],
            "image/png": "[encoded data removed]"
          },
          "metadata": {}
        }
      ]
    },
    {
      "cell_type": "markdown",
      "metadata": {
        "id": "d6ihFwlJhXOL"
      },
      "source": [
        "### 2.6\n",
        "С помощью метода predict_proba получите вероятности принадлежности объектов тестовой выборки к классам. Постройте график roc_auc для тестовой выборки и выведите значение auc."
      ]
    },
    {
      "cell_type": "markdown",
      "metadata": {
        "id": "H0f_DNEMhXOM"
      },
      "source": [
        "**Пример** построения графика."
      ]
    },
    {
      "cell_type": "code",
      "metadata": {
        "id": "WzMU7ULahXOM"
      },
      "source": [
        "from sklearn.metrics import roc_auc_score, roc_curve"
      ],
      "execution_count": 57,
      "outputs": []
    },
    {
      "cell_type": "code",
      "metadata": {
        "id": "Vv5vQq-_hXOR",
        "outputId": "dfda46e0-6193-4684-a8e4-6ec40c511e56",
        "colab": {
          "base_uri": "https://localhost:8080/",
          "height": 207
        }
      },
      "source": [
        "probas = logit_search.fit(x_train, y_train).predict_proba(x_train)\n",
        "fpr, tpr, _ = roc_curve(y_train, probas[:, 1])\n",
        "auc = roc_auc_score(y_train, probas[:, 1])\n",
        "plt.plot(fpr, tpr, label=\"auc=\" + str(auc))\n",
        "plt.legend(loc=4)"
      ],
      "execution_count": 58,
      "outputs": [
        {
          "output_type": "error",
          "ename": "NameError",
          "evalue": "name 'logit_search' is not defined",
          "traceback": [
            "\u001b[0;31m---------------------------------------------------------------------------\u001b[0m",
            "\u001b[0;31mNameError\u001b[0m                                 Traceback (most recent call last)",
            "\u001b[0;32m<ipython-input-58-9546ced9019e>\u001b[0m in \u001b[0;36m<cell line: 1>\u001b[0;34m()\u001b[0m\n\u001b[0;32m----> 1\u001b[0;31m \u001b[0mprobas\u001b[0m \u001b[0;34m=\u001b[0m \u001b[0mlogit_search\u001b[0m\u001b[0;34m.\u001b[0m\u001b[0mfit\u001b[0m\u001b[0;34m(\u001b[0m\u001b[0mx_train\u001b[0m\u001b[0;34m,\u001b[0m \u001b[0my_train\u001b[0m\u001b[0;34m)\u001b[0m\u001b[0;34m.\u001b[0m\u001b[0mpredict_proba\u001b[0m\u001b[0;34m(\u001b[0m\u001b[0mx_train\u001b[0m\u001b[0;34m)\u001b[0m\u001b[0;34m\u001b[0m\u001b[0;34m\u001b[0m\u001b[0m\n\u001b[0m\u001b[1;32m      2\u001b[0m \u001b[0mfpr\u001b[0m\u001b[0;34m,\u001b[0m \u001b[0mtpr\u001b[0m\u001b[0;34m,\u001b[0m \u001b[0m_\u001b[0m \u001b[0;34m=\u001b[0m \u001b[0mroc_curve\u001b[0m\u001b[0;34m(\u001b[0m\u001b[0my_train\u001b[0m\u001b[0;34m,\u001b[0m \u001b[0mprobas\u001b[0m\u001b[0;34m[\u001b[0m\u001b[0;34m:\u001b[0m\u001b[0;34m,\u001b[0m \u001b[0;36m1\u001b[0m\u001b[0;34m]\u001b[0m\u001b[0;34m)\u001b[0m\u001b[0;34m\u001b[0m\u001b[0;34m\u001b[0m\u001b[0m\n\u001b[1;32m      3\u001b[0m \u001b[0mauc\u001b[0m \u001b[0;34m=\u001b[0m \u001b[0mroc_auc_score\u001b[0m\u001b[0;34m(\u001b[0m\u001b[0my_train\u001b[0m\u001b[0;34m,\u001b[0m \u001b[0mprobas\u001b[0m\u001b[0;34m[\u001b[0m\u001b[0;34m:\u001b[0m\u001b[0;34m,\u001b[0m \u001b[0;36m1\u001b[0m\u001b[0;34m]\u001b[0m\u001b[0;34m)\u001b[0m\u001b[0;34m\u001b[0m\u001b[0;34m\u001b[0m\u001b[0m\n\u001b[1;32m      4\u001b[0m \u001b[0mplt\u001b[0m\u001b[0;34m.\u001b[0m\u001b[0mplot\u001b[0m\u001b[0;34m(\u001b[0m\u001b[0mfpr\u001b[0m\u001b[0;34m,\u001b[0m \u001b[0mtpr\u001b[0m\u001b[0;34m,\u001b[0m \u001b[0mlabel\u001b[0m\u001b[0;34m=\u001b[0m\u001b[0;34m\"auc=\"\u001b[0m \u001b[0;34m+\u001b[0m \u001b[0mstr\u001b[0m\u001b[0;34m(\u001b[0m\u001b[0mauc\u001b[0m\u001b[0;34m)\u001b[0m\u001b[0;34m)\u001b[0m\u001b[0;34m\u001b[0m\u001b[0;34m\u001b[0m\u001b[0m\n\u001b[1;32m      5\u001b[0m \u001b[0mplt\u001b[0m\u001b[0;34m.\u001b[0m\u001b[0mlegend\u001b[0m\u001b[0;34m(\u001b[0m\u001b[0mloc\u001b[0m\u001b[0;34m=\u001b[0m\u001b[0;36m4\u001b[0m\u001b[0;34m)\u001b[0m\u001b[0;34m\u001b[0m\u001b[0;34m\u001b[0m\u001b[0m\n",
            "\u001b[0;31mNameError\u001b[0m: name 'logit_search' is not defined"
          ]
        }
      ]
    },
    {
      "cell_type": "code",
      "metadata": {
        "id": "9ptD2581hXOY",
        "colab": {
          "base_uri": "https://localhost:8080/",
          "height": 447
        },
        "outputId": "24ef0b31-0d1a-46ad-88b0-8f3fc54ff5e5"
      },
      "source": [
        "probas = lrcv_model.fit(x_train, y_train).predict_proba(x_train)\n",
        "fpr, tpr, _ = roc_curve(y_train, probas[:, 1])\n",
        "auc = roc_auc_score(y_train, probas[:, 1])\n",
        "plt.plot(fpr, tpr, label=\"auc=\" + str(auc))\n",
        "plt.legend(loc=4)"
      ],
      "execution_count": 59,
      "outputs": [
        {
          "output_type": "execute_result",
          "data": {
            "text/plain": [
              "<matplotlib.legend.Legend at 0x7fcde4d8ace0>"
            ]
          },
          "metadata": {},
          "execution_count": 59
        },
        {
          "output_type": "display_data",
          "data": {
            "text/plain": [
              "<Figure size 640x480 with 1 Axes>"
            ],
            "image/png": "[encoded data removed]"
          },
          "metadata": {}
        }
      ]
    }
  ]
}