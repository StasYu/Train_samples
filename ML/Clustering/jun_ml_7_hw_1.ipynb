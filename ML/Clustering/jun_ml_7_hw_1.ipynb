{
  "nbformat": 4,
  "nbformat_minor": 0,
  "metadata": {
    "colab": {
      "provenance": []
    },
    "kernelspec": {
      "display_name": "Python 3",
      "language": "python",
      "name": "python3"
    },
    "language_info": {
      "codemirror_mode": {
        "name": "ipython",
        "version": 3
      },
      "file_extension": ".py",
      "mimetype": "text/x-python",
      "name": "python",
      "nbconvert_exporter": "python",
      "pygments_lexer": "ipython3",
      "version": "3.6.3"
    }
  },
  "cells": [
    {
      "cell_type": "markdown",
      "metadata": {
        "id": "d5lYtakjONu8"
      },
      "source": [
        "## Урок 2. Домашнее задание\n",
        "\n",
        "### 2.1 Домашнее задание начального уровня\n",
        "\n",
        "Вычислите евклидово расстояние между кластером *c1* и кластером *c3*. Это расстояние получилось меньше, или больше чем расстояние между кластером *c1* и кластером *c2*?\n",
        "\n",
        "Координаты центра для трёх кластеров:\n",
        "\n",
        "* \"красный\" кластер $c_1 = [1.0, 1.5]$\n",
        "* \"оранжевый\" кластер $c_2 = [-1.0, -0.5]$\n",
        "* \"зеленый\" кластер $c_3 = [1.0, -0.5]$\n",
        "\n",
        "![clustering_example](https://248006.selcdn.ru/public/DS.%20Block%202.%20M7/clustering_example.png)"
      ]
    },
    {
      "cell_type": "code",
      "metadata": {
        "id": "_BUBuVtnONu_",
        "outputId": "de23b0be-a2fd-4cc1-8c64-bbeb770e5e44",
        "colab": {
          "base_uri": "https://localhost:8080/"
        }
      },
      "source": [
        "# \"красный\" кластер  𝑐1=[1.0,1.5]\n",
        "# \"оранжевый\" кластер  𝑐2=[−1.0,−0.5]\n",
        "# \"зеленый\" кластер  𝑐3=[1.0,−0.5]\n",
        "from scipy.spatial.distance import euclidean\n",
        "\n",
        "c1 = [1.0,1.5]\n",
        "c2 = [-1.0,-0.5]\n",
        "c3 = [1.0,-0.5]\n",
        "\n",
        "dis1 = euclidean(c1, c2)\n",
        "dis2 = euclidean(c1, c3)\n",
        "\n",
        "if dis1 < dis2:\n",
        "  print(f'distance between c1 and c3 ({dis2}) bigger than c1,c2 ({dis1})')\n",
        "else:\n",
        "  print(f'distance between c1 and c2 ({dis1}) bigger than c1,c3 ({dis2})')\n"
      ],
      "execution_count": 8,
      "outputs": [
        {
          "output_type": "stream",
          "name": "stdout",
          "text": [
            "distance between c1 and c2 (2.8284271247461903) bigger than c1,c3 (2.0)\n"
          ]
        }
      ]
    },
    {
      "cell_type": "markdown",
      "metadata": {
        "id": "erGAkM0UONvJ"
      },
      "source": [
        "В этом уроке мы познакомились с постановкой задачи кластеризации. Мы узнали, с помощью какой функции можно вычислить расстояние между двумя точками. В следующем уроке мы рассмотрим один из самых простых алгоритмов кластеризации, который назовём алгоритмом $k-$средних."
      ]
    }
  ]
}