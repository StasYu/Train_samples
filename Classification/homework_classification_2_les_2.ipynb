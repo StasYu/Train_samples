{
  "nbformat": 4,
  "nbformat_minor": 0,
  "metadata": {
    "colab": {
      "provenance": []
    },
    "kernelspec": {
      "display_name": "Python 3",
      "language": "python",
      "name": "python3"
    },
    "language_info": {
      "codemirror_mode": {
        "name": "ipython",
        "version": 3
      },
      "file_extension": ".py",
      "mimetype": "text/x-python",
      "name": "python",
      "nbconvert_exporter": "python",
      "pygments_lexer": "ipython3",
      "version": "3.6.3"
    }
  },
  "cells": [
    {
      "cell_type": "markdown",
      "metadata": {
        "id": "-smrZewE1tU2"
      },
      "source": [
        "# Урок 6. Многоклассовая классификация.\n",
        "\n",
        "Посмотрим на примере алгоритма логистической регрессии и метода опорных векторов, как работать с различными методами многоклассовой классификации."
      ]
    },
    {
      "cell_type": "markdown",
      "metadata": {
        "id": "S5kQdZzo1tU3"
      },
      "source": [
        "### 1.\n",
        "Вспомните датасет Wine. Загрузите его, разделите на тренировочную и тестовую выборки (random_state=17), используя только [9, 11, 12] признаки."
      ]
    },
    {
      "cell_type": "code",
      "metadata": {
        "id": "paB2E5141tU4"
      },
      "source": [
        "from sklearn.datasets import load_wine\n",
        "from sklearn.model_selection import train_test_split"
      ],
      "execution_count": 1,
      "outputs": []
    },
    {
      "cell_type": "code",
      "source": [
        "# load_wine"
      ],
      "metadata": {
        "id": "owpR3GLa-sWM"
      },
      "execution_count": 15,
      "outputs": []
    },
    {
      "cell_type": "code",
      "metadata": {
        "id": "LdwwBPqq1tU7"
      },
      "source": [
        "dataset = load_wine()\n",
        "features = dataset.data\n",
        "target = dataset.target\n",
        "\n",
        "# print(dataset.feature_names, dataset.target_names)\n",
        "\n",
        "x_train, x_test, y_train, y_test = train_test_split(features[:, [9, 11, 12]], target, random_state=17)\n",
        "\n",
        "# features.shape\n",
        "# features[:, [9,11,12]].shape\n"
      ],
      "execution_count": 29,
      "outputs": []
    },
    {
      "cell_type": "markdown",
      "metadata": {
        "id": "HMLiMOUr1tU9"
      },
      "source": [
        "**Задайте тип кросс-валидации с помощью StratifiedKFold: 5-кратная, random_state=17.**"
      ]
    },
    {
      "cell_type": "code",
      "metadata": {
        "id": "OTY-C4me1tU-"
      },
      "source": [
        "from sklearn.model_selection import StratifiedKFold, cross_val_score"
      ],
      "execution_count": 30,
      "outputs": []
    },
    {
      "cell_type": "code",
      "metadata": {
        "id": "LOVHhQ921tVA"
      },
      "source": [
        "skf = StratifiedKFold(n_splits=5, shuffle=True, random_state=17)"
      ],
      "execution_count": 54,
      "outputs": []
    },
    {
      "cell_type": "markdown",
      "metadata": {
        "id": "-2ClbxRe1tVC"
      },
      "source": [
        "### 2.\n",
        "Обучите логистическую регрессию (LogisticRegression) с параметром C по умолчанию и random_state=17. Укажите гиперпараметр multi_class='ovr' - по умолчанию многие классификаторы используют именно его. С помощью cross_val_score сделайте кросс-валидацию (используйте объект skf) и выведите среднюю долю правильных ответов на ней (используйте функцию mean). Отдельно выведите долю правильных ответов на тестовой выборке."
      ]
    },
    {
      "cell_type": "code",
      "metadata": {
        "id": "oKxIIFGU1tVE"
      },
      "source": [
        "from sklearn.linear_model import LogisticRegression\n",
        "from sklearn.metrics import accuracy_score"
      ],
      "execution_count": 33,
      "outputs": []
    },
    {
      "cell_type": "code",
      "metadata": {
        "id": "CJhpcgqc1tVJ",
        "outputId": "acef5d05-b2eb-4515-8474-311e515e0c55",
        "colab": {
          "base_uri": "https://localhost:8080/"
        }
      },
      "source": [
        "lr = LogisticRegression(random_state=17, multi_class=\"ovr\").fit(x_train, y_train)\n",
        "\n",
        "clf_train = cross_val_score(lr, x_train, y_train, cv=skf)\n",
        "clf_test = cross_val_score(lr, x_test, y_test, cv=skf)\n",
        "clf_train.mean(), clf_test.mean()\n",
        "# clf_train, clf_test"
      ],
      "execution_count": 57,
      "outputs": [
        {
          "output_type": "execute_result",
          "data": {
            "text/plain": [
              "(0.9096866096866097, 0.9555555555555555)"
            ]
          },
          "metadata": {},
          "execution_count": 57
        }
      ]
    },
    {
      "cell_type": "markdown",
      "metadata": {
        "id": "k2JoC3fB1tVM"
      },
      "source": [
        "### 3.\n",
        "Обучите метод опорных векторов (SVC) с random_state=17 и остальными параметрами по умолчанию. Этот метод при мультиклассовой классификации также использует метод \"ovr\". Сделайте кросс-валидацию (используйте skf) и, как и в предыдущем пункте, выведите среднюю долю правильных ответов на ней. Отдельно выведите долю правильных ответов на тестовой выборке."
      ]
    },
    {
      "cell_type": "code",
      "metadata": {
        "id": "50kaD7MQ1tVN"
      },
      "source": [
        "from sklearn.svm import SVC"
      ],
      "execution_count": 58,
      "outputs": []
    },
    {
      "cell_type": "code",
      "metadata": {
        "id": "3DCvlNRd1tVR",
        "outputId": "22f378b9-7f07-4649-dc93-a2b5fa3368ad",
        "colab": {
          "base_uri": "https://localhost:8080/"
        }
      },
      "source": [
        "svc = SVC(random_state=17).fit(x_train, y_train)\n",
        "cv_score_train = cross_val_score(svc, x_train, y_train, cv=skf)\n",
        "cv_score_test = cross_val_score(svc, x_test, y_test, cv=skf)\n",
        "\n",
        "cv_score_train.mean(), cv_score_test.mean()\n"
      ],
      "execution_count": 62,
      "outputs": [
        {
          "output_type": "execute_result",
          "data": {
            "text/plain": [
              "(0.6923076923076923, 0.7555555555555554)"
            ]
          },
          "metadata": {},
          "execution_count": 62
        }
      ]
    },
    {
      "cell_type": "markdown",
      "metadata": {
        "id": "xMvjv6pR1tVX"
      },
      "source": [
        "Как видно из полученной метрики, на тестовой выборке метод с гиперпараметрами по умолчанию работает явно намного хуже логистической регрессии. В целом, SVM достаточно плохо масштабируется на размер обучающего набора данных (как видно, даже с тремя признаками он работает не очень хорошо), но благодаря возможности выбора различных ядер (функций близости, которые помогают разделять данные) и другим гиперпараметрам SVM можно достаточно точно настроить под определенный вид данных. Подробнее на этом останавливаться в контексте данного урока не будем."
      ]
    },
    {
      "cell_type": "markdown",
      "metadata": {
        "id": "0LqZbdk31tVY"
      },
      "source": [
        "### 4.\n",
        "Для предсказаний обеих моделей постройте матрицу ошибок (confusion matrix) и напишите, какие классы каждая из моделей путает больше всего между собой."
      ]
    },
    {
      "cell_type": "code",
      "metadata": {
        "id": "5dRSK--u1tVY"
      },
      "source": [
        "from sklearn.metrics import classification_report, confusion_matrix"
      ],
      "execution_count": 61,
      "outputs": []
    },
    {
      "cell_type": "code",
      "metadata": {
        "id": "VkXUKkhp1tVb",
        "outputId": "b7bbfc99-9e0d-4037-b36c-2ac24a6d3311",
        "colab": {
          "base_uri": "https://localhost:8080/"
        }
      },
      "source": [
        "\n",
        "svc_c_matrix = confusion_matrix(y_test, svc.predict(x_test))\n",
        "\n",
        "lr_c_matrix = confusion_matrix(y_test, lr.predict(x_test))\n",
        "\n",
        "print(svc_c_matrix)\n",
        "print()\n",
        "print(lr_c_matrix)\n",
        "\n"
      ],
      "execution_count": 67,
      "outputs": [
        {
          "output_type": "stream",
          "name": "stdout",
          "text": [
            "[[ 9  0  0]\n",
            " [ 0 19  0]\n",
            " [ 2 15  0]]\n",
            "\n",
            "[[ 9  0  0]\n",
            " [ 0 19  0]\n",
            " [ 0  4 13]]\n"
          ]
        }
      ]
    },
    {
      "cell_type": "code",
      "source": [
        "# class sklearn.metrics.ConfusionMatrixDisplay(confusion_matrix, *, display_labels=None)[source]#\n",
        "import matplotlib.pyplot as plt\n",
        "from sklearn.metrics import ConfusionMatrixDisplay\n",
        "svc_display = ConfusionMatrixDisplay(svc_c_matrix)\n",
        "svc_display.plot()\n",
        "plt.show()\n",
        "\n",
        "# Как видно на графике больше всего путает класс №2 предполагая, что это класс №0 или №1(в основном относит к №1)"
      ],
      "metadata": {
        "id": "hzioG5o5Jd2H",
        "outputId": "21d090e0-9201-48e1-fa3f-328656b356a8",
        "colab": {
          "base_uri": "https://localhost:8080/",
          "height": 449
        }
      },
      "execution_count": 71,
      "outputs": [
        {
          "output_type": "display_data",
          "data": {
            "text/plain": [
              "<Figure size 640x480 with 2 Axes>"
            ],
            "image/png": "[encoded data removed]"
          },
          "metadata": {}
        }
      ]
    },
    {
      "cell_type": "code",
      "source": [
        "lr_display = ConfusionMatrixDisplay(lr_c_matrix)\n",
        "lr_display.plot()\n",
        "plt.show()\n",
        "# Как видно на графике больше всего путает класс №2 предполагая, что это класс №1, но ошибка сильно снизилась"
      ],
      "metadata": {
        "id": "01P2kxmKKhnC",
        "outputId": "f9148c31-f036-4ed7-dad7-425051a81bd8",
        "colab": {
          "base_uri": "https://localhost:8080/",
          "height": 449
        }
      },
      "execution_count": 72,
      "outputs": [
        {
          "output_type": "display_data",
          "data": {
            "text/plain": [
              "<Figure size 640x480 with 2 Axes>"
            ],
            "image/png": "[encoded data removed]"
          },
          "metadata": {}
        }
      ]
    },
    {
      "cell_type": "markdown",
      "metadata": {
        "id": "mqW8if321tVd"
      },
      "source": [
        "### 5.\n",
        "Для каждой модели выведите classification report."
      ]
    },
    {
      "cell_type": "code",
      "metadata": {
        "id": "iuu7neuS1tVe",
        "outputId": "04c25f6e-b7fc-4171-92e0-624c47f7b0e6",
        "colab": {
          "base_uri": "https://localhost:8080/"
        }
      },
      "source": [
        "lr_cl_report = classification_report(y_test, lr.predict(x_test))\n",
        "\n",
        "svc_cl_report = classification_report(y_test, svc.predict(x_test))\n",
        "\n",
        "print(f'Linear regression cross validation: \\n{lr_cl_report}')\n",
        "print()\n",
        "print(f'C-Support Vector Classification: \\n{svc_cl_report}')\n"
      ],
      "execution_count": 79,
      "outputs": [
        {
          "output_type": "stream",
          "name": "stdout",
          "text": [
            "Linear regression cross validation: \n",
            "              precision    recall  f1-score   support\n",
            "\n",
            "           0       1.00      1.00      1.00         9\n",
            "           1       0.83      1.00      0.90        19\n",
            "           2       1.00      0.76      0.87        17\n",
            "\n",
            "    accuracy                           0.91        45\n",
            "   macro avg       0.94      0.92      0.92        45\n",
            "weighted avg       0.93      0.91      0.91        45\n",
            "\n",
            "\n",
            "C-Support Vector Classification: \n",
            "              precision    recall  f1-score   support\n",
            "\n",
            "           0       0.82      1.00      0.90         9\n",
            "           1       0.56      1.00      0.72        19\n",
            "           2       0.00      0.00      0.00        17\n",
            "\n",
            "    accuracy                           0.62        45\n",
            "   macro avg       0.46      0.67      0.54        45\n",
            "weighted avg       0.40      0.62      0.48        45\n",
            "\n"
          ]
        },
        {
          "output_type": "stream",
          "name": "stderr",
          "text": [
            "/usr/local/lib/python3.10/dist-packages/sklearn/metrics/_classification.py:1344: UndefinedMetricWarning: Precision and F-score are ill-defined and being set to 0.0 in labels with no predicted samples. Use `zero_division` parameter to control this behavior.\n",
            "  _warn_prf(average, modifier, msg_start, len(result))\n",
            "/usr/local/lib/python3.10/dist-packages/sklearn/metrics/_classification.py:1344: UndefinedMetricWarning: Precision and F-score are ill-defined and being set to 0.0 in labels with no predicted samples. Use `zero_division` parameter to control this behavior.\n",
            "  _warn_prf(average, modifier, msg_start, len(result))\n",
            "/usr/local/lib/python3.10/dist-packages/sklearn/metrics/_classification.py:1344: UndefinedMetricWarning: Precision and F-score are ill-defined and being set to 0.0 in labels with no predicted samples. Use `zero_division` parameter to control this behavior.\n",
            "  _warn_prf(average, modifier, msg_start, len(result))\n"
          ]
        }
      ]
    }
  ]
}