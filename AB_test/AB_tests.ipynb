{
  "nbformat": 4,
  "nbformat_minor": 0,
  "metadata": {
    "colab": {
      "provenance": []
    },
    "kernelspec": {
      "name": "python3",
      "display_name": "Python 3"
    },
    "language_info": {
      "name": "python"
    }
  },
  "cells": [
    {
      "cell_type": "code",
      "source": [],
      "metadata": {
        "id": "nCguCZv5jpCa"
      },
      "execution_count": null,
      "outputs": []
    },
    {
      "cell_type": "code",
      "source": [
        "import statsmodels.stats.api as sms\n",
        "\n",
        "\n",
        "# Расчитываем необходимый размер выборки для каждой группы\n",
        "# Базовая конверсия в задании = 9%\n",
        "# Погрешность 5%\n",
        "# alpha=5%\n",
        "baseline_rate = 0.09\n",
        "minimum_effect = 0.05\n",
        "alpha = 0.05\n",
        "\n",
        "def sample_size_calculator(baseline_rate, minimum_effect, power=0.8, alpha=alpha):\n",
        "\n",
        "    effect_size = sms.proportion_effectsize(baseline_rate, baseline_rate + minimum_effect)\n",
        "    sample_size = sms.NormalIndPower().solve_power(effect_size, power=power, alpha=alpha, ratio=1)\n",
        "    return sample_size\n",
        "\n",
        "sample_size = sample_size_calculator(baseline_rate, minimum_effect)\n",
        "print(f'Необходимый размер выборки для каждой группы: {sample_size:.0f}')"
      ],
      "metadata": {
        "colab": {
          "base_uri": "https://localhost:8080/"
        },
        "id": "juz8RErw9mcJ",
        "outputId": "e6b0bebc-59ba-4ccf-bbd0-484b583df8ce"
      },
      "execution_count": null,
      "outputs": [
        {
          "output_type": "stream",
          "name": "stdout",
          "text": [
            "Необходимый размер выборки для каждой группы: 632\n"
          ]
        }
      ]
    },
    {
      "cell_type": "code",
      "source": [
        "# df.head()"
      ],
      "metadata": {
        "id": "EnZ1nwMQE-74"
      },
      "execution_count": null,
      "outputs": []
    },
    {
      "cell_type": "markdown",
      "source": [
        "*** ***\n",
        " - Первая таблица для обработки лежит здесь\n",
        "\n",
        "https://drive.google.com/file/d/1oAg3A97c8ASUVizYHvnMFc7T8oWGq1Th/view?usp=sharing\n",
        "\n",
        " - Вторая, третья и четвертая таблица для загрузки\n",
        "\n",
        "https://drive.google.com/file/d/1Sj8CFWxcKFaOivNjXlsJTgeAwyJcW6eP/view?usp=sharing\n",
        "\n",
        "https://drive.google.com/file/d/1dOD-FaDmQHdC0To7sAahedraO4vQiF9Y/view?usp=sharing\n",
        "\n",
        "https://drive.google.com/file/d/1D1B19gJcwM_8kKVy_4m_Qu74nL2KspD2/view?usp=sharing"
      ],
      "metadata": {
        "id": "8C4bbedm5xSv"
      }
    },
    {
      "cell_type": "code",
      "source": [
        "import pandas as pd\n",
        "import numpy as np\n",
        "\n",
        "df = pd.read_csv('ab_activity_3.csv')\n",
        "\n",
        "# разделяем датасет на контрольную и тестовую группу\n",
        "test_x = np.array(df[df['fork']=='last-seats']['paid_event'])\n",
        "control_x = np.array(df[df['fork']=='control']['paid_event'])\n",
        "\n",
        "# проверяем размер группы\n",
        "print(f'test group size: {test_x.shape[0]} \\ncontrol group size: {control_x.shape[0]} \\nrequired group size for each: {sample_size:.0f}')"
      ],
      "metadata": {
        "colab": {
          "base_uri": "https://localhost:8080/"
        },
        "id": "uWVNb2yG-roB",
        "outputId": "4111675a-fbc1-49ab-9c8d-2867e1b28d16"
      },
      "execution_count": null,
      "outputs": [
        {
          "output_type": "stream",
          "name": "stdout",
          "text": [
            "test group size: 37283 \n",
            "control group size: 37166 \n",
            "required group size for each: 632\n"
          ]
        }
      ]
    },
    {
      "cell_type": "code",
      "source": [
        "import scipy.stats as stats\n",
        "\n",
        "\n",
        "def c2_test(control_x, test_x):\n",
        "  control_group = np.array([control_x.sum(), len(control_x)-control_x.sum()])\n",
        "  test_group = np.array([test_x.sum(), len(test_x)-test_x.sum()])\n",
        "\n",
        "\n",
        "  # Запускаем тест\n",
        "  chi2, p, dof, ex = stats.chi2_contingency([control_group, test_group], correction=False)\n",
        "\n",
        "  p1 = test_group[0] / test_group.sum()\n",
        "  p2 = control_group[0] / control_group.sum()\n",
        "\n",
        "  # Расчет отношения конверсии\n",
        "  conv = p1 / p2\n",
        "\n",
        "  # Расчет стандартной ошибки для конверсии\n",
        "  se_p1 = np.sqrt(p1 * (1 - p1) / test_group.sum())\n",
        "  se_p2 = np.sqrt(p2 * (1 - p2) / control_group.sum())\n",
        "  std_error = conv * np.sqrt((se_p1 / p1) ** 2 + (se_p2 / p2) ** 2)\n",
        "\n",
        "  # Доверительный интервал\n",
        "  ci = stats.norm.interval(0.95, loc=conv, scale=std_error)\n",
        "  # Выводим результаты\n",
        "  print(\"Хи-квадрат p-value: \", p)\n",
        "  print(\"Доверительный интервал изменения (conv): \", ci)\n",
        "\n",
        "  # Проверяем есть ли статистически значимое изменение\n",
        "  # Т.к. ДИ строился с центром в точке conv(отношение конверсий test/control), значения справа от 1 принадлежат тестовой выборке\n",
        "  if p < 0.05 and ci[0] > 1:\n",
        "      print(\"У тестовой группы конверсия лучше\")\n",
        "  elif p < 0.05 and ci[1] < 1:\n",
        "      print(\"У контрольной группы конверсия лучше.\")\n",
        "  else:\n",
        "      print(\"Статистически значимой разницы нет.\")\n",
        "  return p1, p2, p, ci\n",
        "\n",
        "p1, p2, p, ci = c2_test(control_x, test_x)"
      ],
      "metadata": {
        "colab": {
          "base_uri": "https://localhost:8080/"
        },
        "id": "-XQbdgXthijG",
        "outputId": "7d60f356-5452-47bf-f586-1e632bb7409f"
      },
      "execution_count": null,
      "outputs": [
        {
          "output_type": "stream",
          "name": "stdout",
          "text": [
            "Хи-квадрат p-value:  0.019966689952271906\n",
            "Доверительный интервал изменения (conv):  (1.0092405061113718, 1.1354182185637705)\n",
            "У тестовой группы конверсия лучше\n"
          ]
        }
      ]
    },
    {
      "cell_type": "code",
      "source": [
        "conv_diff = (p1-p2)*100\n",
        "print(f'Изменение в конверсии между контрольной и тестовой группой составляют: {conv_diff:.1f}%')"
      ],
      "metadata": {
        "colab": {
          "base_uri": "https://localhost:8080/"
        },
        "id": "i7WQ0ylGP4aj",
        "outputId": "02f1c7db-7f3e-45e4-b69c-96eba57e15f0"
      },
      "execution_count": null,
      "outputs": [
        {
          "output_type": "stream",
          "name": "stdout",
          "text": [
            "Изменение в конверсии между контрольной и тестовой группой составляют: 0.4%\n"
          ]
        }
      ]
    },
    {
      "cell_type": "markdown",
      "source": [
        "Согласно проведенному AB тесту, на основе имеющихся данных мы можем отвергнуть нулевю гипотезу, в сторону правосторонней альернативной гипотезы (конверсия тестовой выборки лучше)\n",
        "\n",
        "Если презентовать материал: мы видим улучшение конверсии на основании имеющихся данных, разница конверсии между тестовой группой и контрольной составила 0.4%, но эти данные не говорят нам о том что это разница конверсий генеральной совокупности, лишь позволяют нам понять что внесенное изменение является статистически значимым и привело к улучшению."
      ],
      "metadata": {
        "id": "wTAy2NGCL2SY"
      }
    },
    {
      "cell_type": "code",
      "source": [
        "print('Разница в данных для международных полетов')\n",
        "\n",
        "df_2 = pd.read_csv('international_flights.csv')\n",
        "test_y = np.array(df_2[df_2['fork']=='last-seats']['paid_event'])\n",
        "control_y = np.array(df_2[df_2['fork']=='control']['paid_event'])\n",
        "\n",
        "p1, p2, p, ci = c2_test(control_y, test_y)\n",
        "conv_diff = (p1-p2)*100\n",
        "print(f'Изменение в конверсии между контрольной и тестовой группой составляют: {conv_diff:.1f}%')"
      ],
      "metadata": {
        "colab": {
          "base_uri": "https://localhost:8080/"
        },
        "id": "IU91SnvpW73F",
        "outputId": "dee5a288-3a27-4d3c-eb3f-ff5ae95db639"
      },
      "execution_count": null,
      "outputs": [
        {
          "output_type": "stream",
          "name": "stdout",
          "text": [
            "Разница в данных для международных полетов\n",
            "Хи-квадрат p-value:  0.7069216941926919\n",
            "Доверительный интервал изменения (conv):  (0.828322015422403, 1.1157511019105288)\n",
            "Статистически значимой разницы нет.\n",
            "Изменение в конверсии между контрольной и тестовой группой составляют: -0.1%\n"
          ]
        }
      ]
    },
    {
      "cell_type": "code",
      "source": [
        "print('Разница в данных для внутренних полетов')\n",
        "\n",
        "df_3 = pd.read_csv('internal_flights.csv')\n",
        "test_z = np.array(df_3[df_3['fork']=='last-seats']['paid_event'])\n",
        "control_z = np.array(df_3[df_3['fork']=='control']['paid_event'])\n",
        "\n",
        "p1, p2, p, ci = c2_test(control_z, test_z)\n",
        "conv_diff = (p1-p2)*100\n",
        "print(f'Изменение в конверсии между контрольной и тестовой группой составляют: {conv_diff:.1f}%')"
      ],
      "metadata": {
        "colab": {
          "base_uri": "https://localhost:8080/"
        },
        "id": "gZlIpqH2aTny",
        "outputId": "265c0e0a-52e1-44f0-e8f6-2e04e9f8b931"
      },
      "execution_count": null,
      "outputs": [
        {
          "output_type": "stream",
          "name": "stdout",
          "text": [
            "Разница в данных для внутренних полетов\n",
            "Хи-квадрат p-value:  0.005482682527592331\n",
            "Доверительный интервал изменения (conv):  (1.0251378871296422, 1.1674825559749569)\n",
            "У тестовой группы конверсия лучше\n",
            "Изменение в конверсии между контрольной и тестовой группой составляют: 0.6%\n"
          ]
        }
      ]
    },
    {
      "cell_type": "code",
      "source": [
        "print('Разница в данных для повторных клиентов')\n",
        "\n",
        "df_4 = pd.read_csv('travelers.csv')\n",
        "test_trv = np.array(df_4[(df_4['fork']=='last-seats') & (df_4['had_flights']==1)]['paid_event'])\n",
        "control_trv = np.array(df_4[(df_4['fork']=='control') & (df_4['had_flights']==1)]['paid_event'])\n",
        "\n",
        "p1, p2, p, ci = c2_test(test_trv, control_trv)\n",
        "conv_diff = (p1-p2)*100\n",
        "print(f'Изменение в конверсии между контрольной и тестовой группой составляют: {conv_diff:.1f}%')"
      ],
      "metadata": {
        "colab": {
          "base_uri": "https://localhost:8080/"
        },
        "id": "d2q0Q7BTaaGk",
        "outputId": "dcf2d22a-dbae-46b8-990d-e7f3cfc061cc"
      },
      "execution_count": null,
      "outputs": [
        {
          "output_type": "stream",
          "name": "stdout",
          "text": [
            "Разница в данных для повторных клиентов\n",
            "Хи-квадрат p-value:  0.502224887610929\n",
            "Доверительный интервал изменения (conv):  (0.8717051799561283, 1.062030533141605)\n",
            "Статистически значимой разницы нет.\n",
            "Изменение в конверсии между контрольной и тестовой группой составляют: -0.2%\n"
          ]
        }
      ]
    },
    {
      "cell_type": "code",
      "source": [
        "print('Разница в данных для новых клиентов')\n",
        "\n",
        "test_Non_trv = np.array(df_4[(df_4['fork']=='last-seats') & (df_4['had_flights']==0)]['paid_event'])\n",
        "control_Non_trv = np.array(df_4[(df_4['fork']=='control') & (df_4['had_flights']==0)]['paid_event'])\n",
        "\n",
        "p1, p2, p, ci = c2_test(test_Non_trv, control_Non_trv)\n",
        "conv_diff = (p1-p2)*100\n",
        "print(f'Изменение в конверсии между контрольной и тестовой группой составляют: {conv_diff:.1f}%')"
      ],
      "metadata": {
        "colab": {
          "base_uri": "https://localhost:8080/"
        },
        "id": "nj3ma-a6dgVD",
        "outputId": "50755ed1-179e-410c-cb90-a286318d6209"
      },
      "execution_count": null,
      "outputs": [
        {
          "output_type": "stream",
          "name": "stdout",
          "text": [
            "Разница в данных для новых клиентов\n",
            "Хи-квадрат p-value:  0.01450109918571266\n",
            "Доверительный интервал изменения (conv):  (0.8456277652545003, 0.9795411535195155)\n",
            "У контрольной группы конверсия лучше.\n",
            "Изменение в конверсии между контрольной и тестовой группой составляют: -0.5%\n"
          ]
        }
      ]
    },
    {
      "cell_type": "markdown",
      "source": [
        "Как дополнительные данные мы могли бы использовать выборку с параметром \"Кредит одобрен\" - для анализа конверсии в покупку.\n",
        "\n",
        "В идеале на моменте сбора информации вытащить из логов данные \"Осталось билетов\", для анализа информации о том, насколько вырос спрос на кредитную услугу для срочной покупки авиабилета, например при параметре \"Осталось авиабилетов<=4\""
      ],
      "metadata": {
        "id": "bFCfwnjhecfb"
      }
    },
    {
      "cell_type": "code",
      "source": [],
      "metadata": {
        "id": "6Lrta7wZdtKt"
      },
      "execution_count": null,
      "outputs": []
    }
  ]
}