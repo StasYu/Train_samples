{
  "nbformat": 4,
  "nbformat_minor": 0,
  "metadata": {
    "kernelspec": {
      "display_name": "Python 3",
      "language": "python",
      "name": "python3"
    },
    "language_info": {
      "codemirror_mode": {
        "name": "ipython",
        "version": 3
      },
      "file_extension": ".py",
      "mimetype": "text/x-python",
      "name": "python",
      "nbconvert_exporter": "python",
      "pygments_lexer": "ipython3",
      "version": "3.6.5"
    },
    "colab": {
      "provenance": []
    }
  },
  "cells": [
    {
      "cell_type": "markdown",
      "metadata": {
        "id": "5jhYt9W7AUaP"
      },
      "source": [
        "### Модуль plotly 2. Домашнее задание\n",
        "\n",
        "Все графики должны быть построены с помощью **plotly.express**."
      ]
    },
    {
      "cell_type": "markdown",
      "metadata": {
        "id": "-3v5ankJAUae"
      },
      "source": [
        "#### 1. Анализ акций Tesla\n",
        "\n",
        "Скачайте **yahoo-finance** и библиотеку **pandas_datareader** для загрузки данных."
      ]
    },
    {
      "cell_type": "code",
      "metadata": {
        "id": "qSO2GMadAUbt",
        "colab": {
          "base_uri": "https://localhost:8080/"
        },
        "outputId": "85def889-5e11-4128-bd1d-e601a5d9ceb1"
      },
      "source": [
        "!pip install pandas_datareader"
      ],
      "execution_count": 1,
      "outputs": [
        {
          "output_type": "stream",
          "name": "stdout",
          "text": [
            "Requirement already satisfied: pandas_datareader in /usr/local/lib/python3.10/dist-packages (0.10.0)\n",
            "Requirement already satisfied: lxml in /usr/local/lib/python3.10/dist-packages (from pandas_datareader) (4.9.4)\n",
            "Requirement already satisfied: pandas>=0.23 in /usr/local/lib/python3.10/dist-packages (from pandas_datareader) (1.5.3)\n",
            "Requirement already satisfied: requests>=2.19.0 in /usr/local/lib/python3.10/dist-packages (from pandas_datareader) (2.31.0)\n",
            "Requirement already satisfied: python-dateutil>=2.8.1 in /usr/local/lib/python3.10/dist-packages (from pandas>=0.23->pandas_datareader) (2.8.2)\n",
            "Requirement already satisfied: pytz>=2020.1 in /usr/local/lib/python3.10/dist-packages (from pandas>=0.23->pandas_datareader) (2023.4)\n",
            "Requirement already satisfied: numpy>=1.21.0 in /usr/local/lib/python3.10/dist-packages (from pandas>=0.23->pandas_datareader) (1.25.2)\n",
            "Requirement already satisfied: charset-normalizer<4,>=2 in /usr/local/lib/python3.10/dist-packages (from requests>=2.19.0->pandas_datareader) (3.3.2)\n",
            "Requirement already satisfied: idna<4,>=2.5 in /usr/local/lib/python3.10/dist-packages (from requests>=2.19.0->pandas_datareader) (3.6)\n",
            "Requirement already satisfied: urllib3<3,>=1.21.1 in /usr/local/lib/python3.10/dist-packages (from requests>=2.19.0->pandas_datareader) (2.0.7)\n",
            "Requirement already satisfied: certifi>=2017.4.17 in /usr/local/lib/python3.10/dist-packages (from requests>=2.19.0->pandas_datareader) (2024.2.2)\n",
            "Requirement already satisfied: six>=1.5 in /usr/local/lib/python3.10/dist-packages (from python-dateutil>=2.8.1->pandas>=0.23->pandas_datareader) (1.16.0)\n"
          ]
        }
      ]
    },
    {
      "cell_type": "code",
      "metadata": {
        "id": "bJQT_3ShAUaq",
        "colab": {
          "base_uri": "https://localhost:8080/"
        },
        "outputId": "d1fb06de-c305-4fae-de57-b5c9fd9ee024"
      },
      "source": [
        "!pip install yfinance"
      ],
      "execution_count": null,
      "outputs": [
        {
          "output_type": "stream",
          "name": "stdout",
          "text": [
            "Looking in indexes: https://pypi.org/simple, https://us-python.pkg.dev/colab-wheels/public/simple/\n",
            "Requirement already satisfied: yfinance in /usr/local/lib/python3.8/dist-packages (0.2.3)\n",
            "Requirement already satisfied: cryptography>=3.3.2 in /usr/local/lib/python3.8/dist-packages (from yfinance) (39.0.0)\n",
            "Requirement already satisfied: frozendict>=2.3.4 in /usr/local/lib/python3.8/dist-packages (from yfinance) (2.3.4)\n",
            "Requirement already satisfied: numpy>=1.16.5 in /usr/local/lib/python3.8/dist-packages (from yfinance) (1.21.6)\n",
            "Requirement already satisfied: requests>=2.26 in /usr/local/lib/python3.8/dist-packages (from yfinance) (2.28.2)\n",
            "Requirement already satisfied: pytz>=2022.5 in /usr/local/lib/python3.8/dist-packages (from yfinance) (2022.7)\n",
            "Requirement already satisfied: pandas>=1.3.0 in /usr/local/lib/python3.8/dist-packages (from yfinance) (1.3.5)\n",
            "Requirement already satisfied: beautifulsoup4>=4.11.1 in /usr/local/lib/python3.8/dist-packages (from yfinance) (4.11.1)\n",
            "Requirement already satisfied: lxml>=4.9.1 in /usr/local/lib/python3.8/dist-packages (from yfinance) (4.9.2)\n",
            "Requirement already satisfied: appdirs>=1.4.4 in /usr/local/lib/python3.8/dist-packages (from yfinance) (1.4.4)\n",
            "Requirement already satisfied: html5lib>=1.1 in /usr/local/lib/python3.8/dist-packages (from yfinance) (1.1)\n",
            "Requirement already satisfied: multitasking>=0.0.7 in /usr/local/lib/python3.8/dist-packages (from yfinance) (0.0.11)\n",
            "Requirement already satisfied: soupsieve>1.2 in /usr/local/lib/python3.8/dist-packages (from beautifulsoup4>=4.11.1->yfinance) (2.3.2.post1)\n",
            "Requirement already satisfied: cffi>=1.12 in /usr/local/lib/python3.8/dist-packages (from cryptography>=3.3.2->yfinance) (1.15.1)\n",
            "Requirement already satisfied: webencodings in /usr/local/lib/python3.8/dist-packages (from html5lib>=1.1->yfinance) (0.5.1)\n",
            "Requirement already satisfied: six>=1.9 in /usr/local/lib/python3.8/dist-packages (from html5lib>=1.1->yfinance) (1.15.0)\n",
            "Requirement already satisfied: python-dateutil>=2.7.3 in /usr/local/lib/python3.8/dist-packages (from pandas>=1.3.0->yfinance) (2.8.2)\n",
            "Requirement already satisfied: certifi>=2017.4.17 in /usr/local/lib/python3.8/dist-packages (from requests>=2.26->yfinance) (2022.12.7)\n",
            "Requirement already satisfied: charset-normalizer<4,>=2 in /usr/local/lib/python3.8/dist-packages (from requests>=2.26->yfinance) (2.1.1)\n",
            "Requirement already satisfied: urllib3<1.27,>=1.21.1 in /usr/local/lib/python3.8/dist-packages (from requests>=2.26->yfinance) (1.24.3)\n",
            "Requirement already satisfied: idna<4,>=2.5 in /usr/local/lib/python3.8/dist-packages (from requests>=2.26->yfinance) (2.10)\n",
            "Requirement already satisfied: pycparser in /usr/local/lib/python3.8/dist-packages (from cffi>=1.12->cryptography>=3.3.2->yfinance) (2.21)\n"
          ]
        }
      ]
    },
    {
      "cell_type": "code",
      "metadata": {
        "id": "RZjCyK8PAUca"
      },
      "source": [
        "import plotly.express as px\n",
        "from datetime import datetime\n",
        "import pandas_datareader.data as pdr\n",
        "import pandas as pd\n",
        "import yfinance as yf\n",
        "yf.pdr_override()"
      ],
      "execution_count": null,
      "outputs": []
    },
    {
      "cell_type": "code",
      "metadata": {
        "id": "gSalHcEUAUdS",
        "outputId": "39fa2edc-608c-410c-d03d-1dd6842d413d",
        "colab": {
          "base_uri": "https://localhost:8080/",
          "height": 255
        }
      },
      "source": [
        "# startdate = datetime(2020,1,1)\n",
        "# enddate = datetime(2020,12,21)\n",
        "startdate = '2020-1-1'\n",
        "enddate = '2020-2-1'\n",
        "data = pdr.get_data_yahoo(['TSLA'], start=startdate, end=enddate)\n",
        "data.head()"
      ],
      "execution_count": null,
      "outputs": [
        {
          "output_type": "stream",
          "name": "stdout",
          "text": [
            "\r[*********************100%***********************]  1 of 1 completed\n"
          ]
        },
        {
          "output_type": "execute_result",
          "data": {
            "text/plain": [
              "                 Open       High        Low      Close  Adj Close     Volume\n",
              "Date                                                                        \n",
              "2020-01-02  28.299999  28.713333  28.114000  28.684000  28.684000  142981500\n",
              "2020-01-03  29.366667  30.266666  29.128000  29.534000  29.534000  266677500\n",
              "2020-01-06  29.364668  30.104000  29.333332  30.102667  30.102667  151995000\n",
              "2020-01-07  30.760000  31.441999  30.224001  31.270666  31.270666  268231500\n",
              "2020-01-08  31.580000  33.232666  31.215334  32.809334  32.809334  467164500"
            ],
            "text/html": [
              "\n",
              "  <div id=\"df-ed02524f-cd7c-4932-bad4-0ba92aa90b1a\">\n",
              "    <div class=\"colab-df-container\">\n",
              "      <div>\n",
              "<style scoped>\n",
              "    .dataframe tbody tr th:only-of-type {\n",
              "        vertical-align: middle;\n",
              "    }\n",
              "\n",
              "    .dataframe tbody tr th {\n",
              "        vertical-align: top;\n",
              "    }\n",
              "\n",
              "    .dataframe thead th {\n",
              "        text-align: right;\n",
              "    }\n",
              "</style>\n",
              "<table border=\"1\" class=\"dataframe\">\n",
              "  <thead>\n",
              "    <tr style=\"text-align: right;\">\n",
              "      <th></th>\n",
              "      <th>Open</th>\n",
              "      <th>High</th>\n",
              "      <th>Low</th>\n",
              "      <th>Close</th>\n",
              "      <th>Adj Close</th>\n",
              "      <th>Volume</th>\n",
              "    </tr>\n",
              "    <tr>\n",
              "      <th>Date</th>\n",
              "      <th></th>\n",
              "      <th></th>\n",
              "      <th></th>\n",
              "      <th></th>\n",
              "      <th></th>\n",
              "      <th></th>\n",
              "    </tr>\n",
              "  </thead>\n",
              "  <tbody>\n",
              "    <tr>\n",
              "      <th>2020-01-02</th>\n",
              "      <td>28.299999</td>\n",
              "      <td>28.713333</td>\n",
              "      <td>28.114000</td>\n",
              "      <td>28.684000</td>\n",
              "      <td>28.684000</td>\n",
              "      <td>142981500</td>\n",
              "    </tr>\n",
              "    <tr>\n",
              "      <th>2020-01-03</th>\n",
              "      <td>29.366667</td>\n",
              "      <td>30.266666</td>\n",
              "      <td>29.128000</td>\n",
              "      <td>29.534000</td>\n",
              "      <td>29.534000</td>\n",
              "      <td>266677500</td>\n",
              "    </tr>\n",
              "    <tr>\n",
              "      <th>2020-01-06</th>\n",
              "      <td>29.364668</td>\n",
              "      <td>30.104000</td>\n",
              "      <td>29.333332</td>\n",
              "      <td>30.102667</td>\n",
              "      <td>30.102667</td>\n",
              "      <td>151995000</td>\n",
              "    </tr>\n",
              "    <tr>\n",
              "      <th>2020-01-07</th>\n",
              "      <td>30.760000</td>\n",
              "      <td>31.441999</td>\n",
              "      <td>30.224001</td>\n",
              "      <td>31.270666</td>\n",
              "      <td>31.270666</td>\n",
              "      <td>268231500</td>\n",
              "    </tr>\n",
              "    <tr>\n",
              "      <th>2020-01-08</th>\n",
              "      <td>31.580000</td>\n",
              "      <td>33.232666</td>\n",
              "      <td>31.215334</td>\n",
              "      <td>32.809334</td>\n",
              "      <td>32.809334</td>\n",
              "      <td>467164500</td>\n",
              "    </tr>\n",
              "  </tbody>\n",
              "</table>\n",
              "</div>\n",
              "      <button class=\"colab-df-convert\" onclick=\"convertToInteractive('df-ed02524f-cd7c-4932-bad4-0ba92aa90b1a')\"\n",
              "              title=\"Convert this dataframe to an interactive table.\"\n",
              "              style=\"display:none;\">\n",
              "        \n",
              "  <svg xmlns=\"http://www.w3.org/2000/svg\" height=\"24px\"viewBox=\"0 0 24 24\"\n",
              "       width=\"24px\">\n",
              "    <path d=\"M0 0h24v24H0V0z\" fill=\"none\"/>\n",
              "    <path d=\"M18.56 5.44l.94 2.06.94-2.06 2.06-.94-2.06-.94-.94-2.06-.94 2.06-2.06.94zm-11 1L8.5 8.5l.94-2.06 2.06-.94-2.06-.94L8.5 2.5l-.94 2.06-2.06.94zm10 10l.94 2.06.94-2.06 2.06-.94-2.06-.94-.94-2.06-.94 2.06-2.06.94z\"/><path d=\"M17.41 7.96l-1.37-1.37c-.4-.4-.92-.59-1.43-.59-.52 0-1.04.2-1.43.59L10.3 9.45l-7.72 7.72c-.78.78-.78 2.05 0 2.83L4 21.41c.39.39.9.59 1.41.59.51 0 1.02-.2 1.41-.59l7.78-7.78 2.81-2.81c.8-.78.8-2.07 0-2.86zM5.41 20L4 18.59l7.72-7.72 1.47 1.35L5.41 20z\"/>\n",
              "  </svg>\n",
              "      </button>\n",
              "      \n",
              "  <style>\n",
              "    .colab-df-container {\n",
              "      display:flex;\n",
              "      flex-wrap:wrap;\n",
              "      gap: 12px;\n",
              "    }\n",
              "\n",
              "    .colab-df-convert {\n",
              "      background-color: #E8F0FE;\n",
              "      border: none;\n",
              "      border-radius: 50%;\n",
              "      cursor: pointer;\n",
              "      display: none;\n",
              "      fill: #1967D2;\n",
              "      height: 32px;\n",
              "      padding: 0 0 0 0;\n",
              "      width: 32px;\n",
              "    }\n",
              "\n",
              "    .colab-df-convert:hover {\n",
              "      background-color: #E2EBFA;\n",
              "      box-shadow: 0px 1px 2px rgba(60, 64, 67, 0.3), 0px 1px 3px 1px rgba(60, 64, 67, 0.15);\n",
              "      fill: #174EA6;\n",
              "    }\n",
              "\n",
              "    [theme=dark] .colab-df-convert {\n",
              "      background-color: #3B4455;\n",
              "      fill: #D2E3FC;\n",
              "    }\n",
              "\n",
              "    [theme=dark] .colab-df-convert:hover {\n",
              "      background-color: #434B5C;\n",
              "      box-shadow: 0px 1px 3px 1px rgba(0, 0, 0, 0.15);\n",
              "      filter: drop-shadow(0px 1px 2px rgba(0, 0, 0, 0.3));\n",
              "      fill: #FFFFFF;\n",
              "    }\n",
              "  </style>\n",
              "\n",
              "      <script>\n",
              "        const buttonEl =\n",
              "          document.querySelector('#df-ed02524f-cd7c-4932-bad4-0ba92aa90b1a button.colab-df-convert');\n",
              "        buttonEl.style.display =\n",
              "          google.colab.kernel.accessAllowed ? 'block' : 'none';\n",
              "\n",
              "        async function convertToInteractive(key) {\n",
              "          const element = document.querySelector('#df-ed02524f-cd7c-4932-bad4-0ba92aa90b1a');\n",
              "          const dataTable =\n",
              "            await google.colab.kernel.invokeFunction('convertToInteractive',\n",
              "                                                     [key], {});\n",
              "          if (!dataTable) return;\n",
              "\n",
              "          const docLinkHtml = 'Like what you see? Visit the ' +\n",
              "            '<a target=\"_blank\" href=https://colab.research.google.com/notebooks/data_table.ipynb>data table notebook</a>'\n",
              "            + ' to learn more about interactive tables.';\n",
              "          element.innerHTML = '';\n",
              "          dataTable['output_type'] = 'display_data';\n",
              "          await google.colab.output.renderOutput(dataTable, element);\n",
              "          const docLink = document.createElement('div');\n",
              "          docLink.innerHTML = docLinkHtml;\n",
              "          element.appendChild(docLink);\n",
              "        }\n",
              "      </script>\n",
              "    </div>\n",
              "  </div>\n",
              "  "
            ]
          },
          "metadata": {},
          "execution_count": 11
        }
      ]
    },
    {
      "cell_type": "markdown",
      "metadata": {
        "id": "l6IZFM7IAUeL"
      },
      "source": [
        "**1.a.** Постройте две линии на одном графике: изменение самой высокой цены High и самой низкой Low в течение 2020 года.\n",
        "\n",
        "Напишите месяц, в котором самая высокая цена акции за день впервые превысила 350 долларов за штуку.\n",
        "\n",
        "**Ваш ответ:**"
      ]
    },
    {
      "cell_type": "code",
      "metadata": {
        "id": "cpYeGt9jAUeU"
      },
      "source": [],
      "execution_count": null,
      "outputs": []
    },
    {
      "cell_type": "markdown",
      "metadata": {
        "id": "ogJaYI1JAUe7"
      },
      "source": [
        "**1.b.** Постройте следующий график:\n",
        "\n",
        "- процентое изменение цены за акцию Tesla за день по отношению к цене на открытии торгов.\n",
        "\n",
        "На оси **x** должны быть отмечены даты из data.index. Значения оси **y** должны отражать, на сколько процентов увеличилась (положительное число) или на сколько процентов упала (отрицательное число) цена акции на закрытии Close по сравнению с ценой открытия Open.\n",
        "\n",
        "В какой день наблюдалось самое резкое понижение цены за акцию? А самое большое повышение? На сколько процентов?\n",
        "\n",
        "*Подсказка: создайте новую колонку Diff, в которой посчитайте изменение акции за день в процентах*\n",
        "\n",
        "**Ваш ответ:**"
      ]
    },
    {
      "cell_type": "code",
      "metadata": {
        "id": "9bBRWtyxAUfC"
      },
      "source": [],
      "execution_count": null,
      "outputs": []
    },
    {
      "cell_type": "markdown",
      "metadata": {
        "id": "r5DuafaQAUfv"
      },
      "source": [
        "**1.с.** С помощью **pandas** преобразуйте индекс датасета в формат «год-месяц» и сгруппируйте данные так, чтобы новому индексу соответствовали средние значения по колонкам в указанном месяце и годе.\n",
        "\n",
        "Напишите месяц, когда объем акций впервые превысил 60M. Какая средняя цена акции на закрытии торгов соответствует этому месяцу?\n",
        "\n",
        "*Подсказка: используйте параметр hover_data.*\n",
        "\n",
        "**Ваш ответ:**"
      ]
    },
    {
      "cell_type": "code",
      "metadata": {
        "id": "6tW13_RDAUf2"
      },
      "source": [],
      "execution_count": null,
      "outputs": []
    },
    {
      "cell_type": "markdown",
      "metadata": {
        "id": "S1eyDBR4AUgc"
      },
      "source": [
        "#### 2. Анализ продаж мобильных телефонов\n",
        "\n",
        "В этой части будем анализировать данные из соревнования Mobile Price Classification на Kaggle:\n",
        "\n",
        "*battery_power: Total energy a battery can store in one time measured in mAh*\n",
        "\n",
        "*dual_sim: Has dual sim support or not*\n",
        "\n",
        "*fc: Front Camera mega pixels*\n",
        "\n",
        "*four_g: Has 4G or not*\n",
        "\n",
        "*int_memory: Internal Memory in Gigabytes*\n",
        "\n",
        "*mobile_wt: Weight of mobile phone*\n",
        "\n",
        "*n_cores: Number of cores of processor*\n",
        "\n",
        "*pc: Primary Camera mega pixels*\n",
        "\n",
        "*ram: Random Access Memory in Mega Bytes*\n",
        "\n",
        "*sc_h: Screen Height of mobile in cm*\n",
        "\n",
        "*sc_w: Screen Width of mobile in cm*\n",
        "\n",
        "*talk_time: longest time that a single battery charge will last when you are*\n",
        "\n",
        "*price_range: This is the target variable with value of 0(low cost), 1(medium cost), 2(high cost) and 3(very high cost).*"
      ]
    },
    {
      "cell_type": "code",
      "metadata": {
        "id": "YWWGZgwAAUgj"
      },
      "source": [
        "data = pd.read_csv('mobile_data.csv')"
      ],
      "execution_count": null,
      "outputs": []
    },
    {
      "cell_type": "code",
      "metadata": {
        "id": "9c0JT3Q_AUhW",
        "outputId": "c9ad3709-3ec6-4557-8214-f61e2281625f"
      },
      "source": [
        "data.head()"
      ],
      "execution_count": null,
      "outputs": [
        {
          "output_type": "execute_result",
          "data": {
            "text/html": [
              "<div>\n",
              "<style scoped>\n",
              "    .dataframe tbody tr th:only-of-type {\n",
              "        vertical-align: middle;\n",
              "    }\n",
              "\n",
              "    .dataframe tbody tr th {\n",
              "        vertical-align: top;\n",
              "    }\n",
              "\n",
              "    .dataframe thead th {\n",
              "        text-align: right;\n",
              "    }\n",
              "</style>\n",
              "<table border=\"1\" class=\"dataframe\">\n",
              "  <thead>\n",
              "    <tr style=\"text-align: right;\">\n",
              "      <th></th>\n",
              "      <th>battery_power</th>\n",
              "      <th>dual_sim</th>\n",
              "      <th>fc</th>\n",
              "      <th>four_g</th>\n",
              "      <th>int_memory</th>\n",
              "      <th>mobile_wt</th>\n",
              "      <th>n_cores</th>\n",
              "      <th>pc</th>\n",
              "      <th>ram</th>\n",
              "      <th>sc_h</th>\n",
              "      <th>sc_w</th>\n",
              "      <th>talk_time</th>\n",
              "      <th>price_range</th>\n",
              "    </tr>\n",
              "  </thead>\n",
              "  <tbody>\n",
              "    <tr>\n",
              "      <th>0</th>\n",
              "      <td>1954</td>\n",
              "      <td>1</td>\n",
              "      <td>0</td>\n",
              "      <td>0</td>\n",
              "      <td>24</td>\n",
              "      <td>187</td>\n",
              "      <td>4</td>\n",
              "      <td>0</td>\n",
              "      <td>700</td>\n",
              "      <td>16</td>\n",
              "      <td>3</td>\n",
              "      <td>5</td>\n",
              "      <td>0</td>\n",
              "    </tr>\n",
              "    <tr>\n",
              "      <th>1</th>\n",
              "      <td>1520</td>\n",
              "      <td>0</td>\n",
              "      <td>5</td>\n",
              "      <td>1</td>\n",
              "      <td>33</td>\n",
              "      <td>177</td>\n",
              "      <td>8</td>\n",
              "      <td>18</td>\n",
              "      <td>3826</td>\n",
              "      <td>14</td>\n",
              "      <td>9</td>\n",
              "      <td>13</td>\n",
              "      <td>3</td>\n",
              "    </tr>\n",
              "    <tr>\n",
              "      <th>2</th>\n",
              "      <td>775</td>\n",
              "      <td>0</td>\n",
              "      <td>3</td>\n",
              "      <td>0</td>\n",
              "      <td>46</td>\n",
              "      <td>159</td>\n",
              "      <td>2</td>\n",
              "      <td>16</td>\n",
              "      <td>568</td>\n",
              "      <td>17</td>\n",
              "      <td>15</td>\n",
              "      <td>11</td>\n",
              "      <td>0</td>\n",
              "    </tr>\n",
              "    <tr>\n",
              "      <th>3</th>\n",
              "      <td>961</td>\n",
              "      <td>1</td>\n",
              "      <td>0</td>\n",
              "      <td>1</td>\n",
              "      <td>57</td>\n",
              "      <td>114</td>\n",
              "      <td>8</td>\n",
              "      <td>3</td>\n",
              "      <td>2782</td>\n",
              "      <td>18</td>\n",
              "      <td>9</td>\n",
              "      <td>7</td>\n",
              "      <td>2</td>\n",
              "    </tr>\n",
              "    <tr>\n",
              "      <th>4</th>\n",
              "      <td>1453</td>\n",
              "      <td>1</td>\n",
              "      <td>12</td>\n",
              "      <td>1</td>\n",
              "      <td>52</td>\n",
              "      <td>96</td>\n",
              "      <td>2</td>\n",
              "      <td>18</td>\n",
              "      <td>2373</td>\n",
              "      <td>10</td>\n",
              "      <td>1</td>\n",
              "      <td>10</td>\n",
              "      <td>2</td>\n",
              "    </tr>\n",
              "    <tr>\n",
              "      <th>...</th>\n",
              "      <td>...</td>\n",
              "      <td>...</td>\n",
              "      <td>...</td>\n",
              "      <td>...</td>\n",
              "      <td>...</td>\n",
              "      <td>...</td>\n",
              "      <td>...</td>\n",
              "      <td>...</td>\n",
              "      <td>...</td>\n",
              "      <td>...</td>\n",
              "      <td>...</td>\n",
              "      <td>...</td>\n",
              "      <td>...</td>\n",
              "    </tr>\n",
              "    <tr>\n",
              "      <th>396</th>\n",
              "      <td>674</td>\n",
              "      <td>1</td>\n",
              "      <td>1</td>\n",
              "      <td>0</td>\n",
              "      <td>21</td>\n",
              "      <td>198</td>\n",
              "      <td>3</td>\n",
              "      <td>4</td>\n",
              "      <td>1180</td>\n",
              "      <td>6</td>\n",
              "      <td>3</td>\n",
              "      <td>4</td>\n",
              "      <td>0</td>\n",
              "    </tr>\n",
              "    <tr>\n",
              "      <th>397</th>\n",
              "      <td>1467</td>\n",
              "      <td>0</td>\n",
              "      <td>0</td>\n",
              "      <td>0</td>\n",
              "      <td>18</td>\n",
              "      <td>122</td>\n",
              "      <td>5</td>\n",
              "      <td>0</td>\n",
              "      <td>3962</td>\n",
              "      <td>15</td>\n",
              "      <td>11</td>\n",
              "      <td>5</td>\n",
              "      <td>3</td>\n",
              "    </tr>\n",
              "    <tr>\n",
              "      <th>398</th>\n",
              "      <td>1965</td>\n",
              "      <td>1</td>\n",
              "      <td>0</td>\n",
              "      <td>0</td>\n",
              "      <td>39</td>\n",
              "      <td>187</td>\n",
              "      <td>4</td>\n",
              "      <td>3</td>\n",
              "      <td>2032</td>\n",
              "      <td>11</td>\n",
              "      <td>10</td>\n",
              "      <td>16</td>\n",
              "      <td>2</td>\n",
              "    </tr>\n",
              "    <tr>\n",
              "      <th>399</th>\n",
              "      <td>1512</td>\n",
              "      <td>0</td>\n",
              "      <td>4</td>\n",
              "      <td>1</td>\n",
              "      <td>46</td>\n",
              "      <td>145</td>\n",
              "      <td>5</td>\n",
              "      <td>5</td>\n",
              "      <td>869</td>\n",
              "      <td>18</td>\n",
              "      <td>10</td>\n",
              "      <td>19</td>\n",
              "      <td>0</td>\n",
              "    </tr>\n",
              "    <tr>\n",
              "      <th>400</th>\n",
              "      <td>510</td>\n",
              "      <td>1</td>\n",
              "      <td>5</td>\n",
              "      <td>1</td>\n",
              "      <td>45</td>\n",
              "      <td>168</td>\n",
              "      <td>6</td>\n",
              "      <td>16</td>\n",
              "      <td>3919</td>\n",
              "      <td>19</td>\n",
              "      <td>4</td>\n",
              "      <td>2</td>\n",
              "      <td>3</td>\n",
              "    </tr>\n",
              "  </tbody>\n",
              "</table>\n",
              "<p>401 rows × 13 columns</p>\n",
              "</div>"
            ],
            "text/plain": [
              "     battery_power  dual_sim  fc  four_g  int_memory  mobile_wt  n_cores  pc  \\\n",
              "0             1954         1   0       0          24        187        4   0   \n",
              "1             1520         0   5       1          33        177        8  18   \n",
              "2              775         0   3       0          46        159        2  16   \n",
              "3              961         1   0       1          57        114        8   3   \n",
              "4             1453         1  12       1          52         96        2  18   \n",
              "..             ...       ...  ..     ...         ...        ...      ...  ..   \n",
              "396            674         1   1       0          21        198        3   4   \n",
              "397           1467         0   0       0          18        122        5   0   \n",
              "398           1965         1   0       0          39        187        4   3   \n",
              "399           1512         0   4       1          46        145        5   5   \n",
              "400            510         1   5       1          45        168        6  16   \n",
              "\n",
              "      ram  sc_h  sc_w  talk_time  price_range  \n",
              "0     700    16     3          5            0  \n",
              "1    3826    14     9         13            3  \n",
              "2     568    17    15         11            0  \n",
              "3    2782    18     9          7            2  \n",
              "4    2373    10     1         10            2  \n",
              "..    ...   ...   ...        ...          ...  \n",
              "396  1180     6     3          4            0  \n",
              "397  3962    15    11          5            3  \n",
              "398  2032    11    10         16            2  \n",
              "399   869    18    10         19            0  \n",
              "400  3919    19     4          2            3  \n",
              "\n",
              "[401 rows x 13 columns]"
            ]
          },
          "metadata": {
            "tags": []
          },
          "execution_count": 186
        }
      ]
    },
    {
      "cell_type": "markdown",
      "metadata": {
        "id": "ffd5BIa6AUiE"
      },
      "source": [
        "**1.a.** Загрузите данные. Постройте график scatter зависимости параметра ram от battery_power. С помощью одного графика ответьте на следующие вопросы:\n",
        "\n",
        "- Существует ли зависимость ram от мощности батареи battery power?\n",
        "- Правда ли, что чем больше значение battery_power, тем дороже будет стоить телефон?\n",
        "- Верно ли предыдущее утверждение для параметра ram?\n",
        "- Проверьте гипотезу, что у телефона с мощной батареей и большим значением ram время разговора (talk_time) тоже увеличено.\n",
        "\n",
        "*Подсказка: переведите значения price_range в строки для того, чтобы легенда корректно отображалась;\n",
        "используйте параметры color, size*.\n",
        "\n",
        "**Ваш ответ:**"
      ]
    },
    {
      "cell_type": "code",
      "metadata": {
        "id": "BU8qcVfGAUiL"
      },
      "source": [],
      "execution_count": null,
      "outputs": []
    },
    {
      "cell_type": "markdown",
      "metadata": {
        "id": "KlmLhWZLAUiu"
      },
      "source": [
        "**2.b.** Изучите параметр **facet_col** и постройте зависимость памяти ram от количества мегапикселей камеры pc. У вас должно получиться четыре графика в зависимости от значения price_range."
      ]
    },
    {
      "cell_type": "code",
      "metadata": {
        "id": "TiBuZ6LYAUi1"
      },
      "source": [],
      "execution_count": null,
      "outputs": []
    }
  ]
}