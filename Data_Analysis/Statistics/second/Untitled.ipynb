{
 "cells": [
  {
   "cell_type": "code",
   "execution_count": 1,
   "id": "04d69c45",
   "metadata": {},
   "outputs": [],
   "source": [
    "import numpy as np\n",
    "import pandas as pd\n",
    "import scipy.special as sps\n",
    "import matplotlib.pyplot as plt\n",
    "import seaborn as sns\n",
    "import warnings\n",
    "\n",
    "%matplotlib inline\n",
    "plt.rcParams['figure.figsize']=(7,6)\n",
    "warnings.filterwarnings('ignore')"
   ]
  },
  {
   "cell_type": "code",
   "execution_count": 2,
   "id": "dafc93ac",
   "metadata": {},
   "outputs": [
    {
     "data": {
      "text/html": [
       "<div>\n",
       "<style scoped>\n",
       "    .dataframe tbody tr th:only-of-type {\n",
       "        vertical-align: middle;\n",
       "    }\n",
       "\n",
       "    .dataframe tbody tr th {\n",
       "        vertical-align: top;\n",
       "    }\n",
       "\n",
       "    .dataframe thead th {\n",
       "        text-align: right;\n",
       "    }\n",
       "</style>\n",
       "<table border=\"1\" class=\"dataframe\">\n",
       "  <thead>\n",
       "    <tr style=\"text-align: right;\">\n",
       "      <th></th>\n",
       "      <th>year</th>\n",
       "      <th>company</th>\n",
       "      <th>revenue, $K</th>\n",
       "      <th>rate</th>\n",
       "    </tr>\n",
       "  </thead>\n",
       "  <tbody>\n",
       "    <tr>\n",
       "      <th>0</th>\n",
       "      <td>2008</td>\n",
       "      <td>Kett</td>\n",
       "      <td>1000</td>\n",
       "      <td>1</td>\n",
       "    </tr>\n",
       "    <tr>\n",
       "      <th>1</th>\n",
       "      <td>2008</td>\n",
       "      <td>Krap</td>\n",
       "      <td>899</td>\n",
       "      <td>1</td>\n",
       "    </tr>\n",
       "    <tr>\n",
       "      <th>2</th>\n",
       "      <td>2008</td>\n",
       "      <td>Loft</td>\n",
       "      <td>760</td>\n",
       "      <td>1</td>\n",
       "    </tr>\n",
       "  </tbody>\n",
       "</table>\n",
       "</div>"
      ],
      "text/plain": [
       "   year company  revenue, $K  rate\n",
       "0  2008    Kett         1000     1\n",
       "1  2008    Krap          899     1\n",
       "2  2008    Loft          760     1"
      ]
     },
     "execution_count": 2,
     "metadata": {},
     "output_type": "execute_result"
    }
   ],
   "source": [
    "data = pd.read_excel('./first.xlsx')\n",
    "data = data.sort_values(['year', 'company']).reset_index()\n",
    "data.drop('index', axis=1, inplace=True)\n",
    "data.head(3)"
   ]
  },
  {
   "cell_type": "code",
   "execution_count": null,
   "id": "2e9bff07",
   "metadata": {},
   "outputs": [],
   "source": []
  },
  {
   "cell_type": "markdown",
   "id": "b364bcd8",
   "metadata": {},
   "source": [
    "Решение 1 (очевидно видно лидеров роста по годам)"
   ]
  },
  {
   "cell_type": "code",
   "execution_count": 3,
   "id": "8fb01bae",
   "metadata": {},
   "outputs": [
    {
     "data": {
      "text/plain": [
       "Text(0.5, 1.0, 'Динамика роста выручки по годам %')"
      ]
     },
     "execution_count": 3,
     "metadata": {},
     "output_type": "execute_result"
    },
    {
     "data": {
      "image/png": "[encoded data removed]",
      "text/plain": [
       "<Figure size 700x600 with 1 Axes>"
      ]
     },
     "metadata": {},
     "output_type": "display_data"
    }
   ],
   "source": [
    "sns.barplot(data, x='year', y='rate', hue = 'company', dodge=True)\n",
    "plt.title('Динамика роста выручки по годам %')"
   ]
  },
  {
   "cell_type": "markdown",
   "id": "7b40d627",
   "metadata": {},
   "source": [
    "Решение 2 (в случае если интересует динамика роста каждой компании)"
   ]
  },
  {
   "cell_type": "code",
   "execution_count": 4,
   "id": "3ee9b028",
   "metadata": {},
   "outputs": [
    {
     "data": {
      "text/plain": [
       "{'Kett': 'green',\n",
       " 'Krap': 'blue',\n",
       " 'Loft': 'orange',\n",
       " 'Shmuber': 'red',\n",
       " 'Tindex Taxi': 'green'}"
      ]
     },
     "execution_count": 4,
     "metadata": {},
     "output_type": "execute_result"
    }
   ],
   "source": [
    "companies = data['company'].unique()\n",
    "colors = np.array(['green', 'blue', 'orange', 'red', 'green'])\n",
    "new_dict = {}\n",
    "\n",
    "    \n",
    "new_dict = {companies[i]:colors[i] for i in range(len(companies))}\n",
    "new_dict"
   ]
  },
  {
   "cell_type": "code",
   "execution_count": null,
   "id": "8a81ce4e",
   "metadata": {},
   "outputs": [],
   "source": [
    "\n",
    "\n",
    "for i in companies:\n",
    "    plt.figure(figsize=(3,2))\n",
    "    temp = data[data['company'] == i]\n",
    "    sns.lineplot(temp, x='year', y='rate', color=new_dict[i])\n",
    "    plt.title(i)\n",
    "    plt.show()\n",
    "    \n"
   ]
  },
  {
   "cell_type": "code",
   "execution_count": null,
   "id": "bacf0426",
   "metadata": {},
   "outputs": [],
   "source": []
  }
 ],
 "metadata": {
  "kernelspec": {
   "display_name": "Python 3 (ipykernel)",
   "language": "python",
   "name": "python3"
  },
  "language_info": {
   "codemirror_mode": {
    "name": "ipython",
    "version": 3
   },
   "file_extension": ".py",
   "mimetype": "text/x-python",
   "name": "python",
   "nbconvert_exporter": "python",
   "pygments_lexer": "ipython3",
   "version": "3.11.5"
  }
 },
 "nbformat": 4,
 "nbformat_minor": 5
}
